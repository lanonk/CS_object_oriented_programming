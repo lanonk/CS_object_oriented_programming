{
 "cells": [
  {
   "cell_type": "code",
   "execution_count": 1,
   "metadata": {
    "scrolled": true
   },
   "outputs": [
    {
     "name": "stderr",
     "output_type": "stream",
     "text": [
      "C:\\Users\\nolanchiggs\\Anaconda3\\lib\\site-packages\\statsmodels\\tools\\_testing.py:19: FutureWarning: pandas.util.testing is deprecated. Use the functions in the public API at pandas.testing instead.\n",
      "  import pandas.util.testing as tm\n"
     ]
    }
   ],
   "source": [
    "import pandas as pd\n",
    "import seaborn as sn\n",
    "import matplotlib.pyplot as plt\n",
    "import os"
   ]
  },
  {
   "cell_type": "code",
   "execution_count": 2,
   "metadata": {},
   "outputs": [
    {
     "name": "stderr",
     "output_type": "stream",
     "text": [
      "C:\\Users\\nolanchiggs\\Anaconda3\\lib\\site-packages\\IPython\\core\\interactiveshell.py:3057: DtypeWarning: Columns (41) have mixed types.Specify dtype option on import or set low_memory=False.\n",
      "  interactivity=interactivity, compiler=compiler, result=result)\n"
     ]
    }
   ],
   "source": [
    "players = pd.read_csv(\"basketball_players.csv\")"
   ]
  },
  {
   "cell_type": "code",
   "execution_count": 4,
   "metadata": {},
   "outputs": [
    {
     "data": {
      "text/html": [
       "<div>\n",
       "<style scoped>\n",
       "    .dataframe tbody tr th:only-of-type {\n",
       "        vertical-align: middle;\n",
       "    }\n",
       "\n",
       "    .dataframe tbody tr th {\n",
       "        vertical-align: top;\n",
       "    }\n",
       "\n",
       "    .dataframe thead th {\n",
       "        text-align: right;\n",
       "    }\n",
       "</style>\n",
       "<table border=\"1\" class=\"dataframe\">\n",
       "  <thead>\n",
       "    <tr style=\"text-align: right;\">\n",
       "      <th></th>\n",
       "      <th>playerID</th>\n",
       "      <th>year</th>\n",
       "      <th>stint</th>\n",
       "      <th>tmID</th>\n",
       "      <th>lgID</th>\n",
       "      <th>GP</th>\n",
       "      <th>GS</th>\n",
       "      <th>minutes</th>\n",
       "      <th>points</th>\n",
       "      <th>oRebounds</th>\n",
       "      <th>...</th>\n",
       "      <th>PostBlocks</th>\n",
       "      <th>PostTurnovers</th>\n",
       "      <th>PostPF</th>\n",
       "      <th>PostfgAttempted</th>\n",
       "      <th>PostfgMade</th>\n",
       "      <th>PostftAttempted</th>\n",
       "      <th>PostftMade</th>\n",
       "      <th>PostthreeAttempted</th>\n",
       "      <th>PostthreeMade</th>\n",
       "      <th>note</th>\n",
       "    </tr>\n",
       "  </thead>\n",
       "  <tbody>\n",
       "    <tr>\n",
       "      <th>0</th>\n",
       "      <td>abramjo01</td>\n",
       "      <td>1946</td>\n",
       "      <td>1</td>\n",
       "      <td>PIT</td>\n",
       "      <td>NBA</td>\n",
       "      <td>47</td>\n",
       "      <td>0</td>\n",
       "      <td>0</td>\n",
       "      <td>527</td>\n",
       "      <td>0</td>\n",
       "      <td>...</td>\n",
       "      <td>0</td>\n",
       "      <td>0</td>\n",
       "      <td>0</td>\n",
       "      <td>0</td>\n",
       "      <td>0</td>\n",
       "      <td>0</td>\n",
       "      <td>0</td>\n",
       "      <td>0</td>\n",
       "      <td>0</td>\n",
       "      <td>NaN</td>\n",
       "    </tr>\n",
       "    <tr>\n",
       "      <th>1</th>\n",
       "      <td>aubucch01</td>\n",
       "      <td>1946</td>\n",
       "      <td>1</td>\n",
       "      <td>DTF</td>\n",
       "      <td>NBA</td>\n",
       "      <td>30</td>\n",
       "      <td>0</td>\n",
       "      <td>0</td>\n",
       "      <td>65</td>\n",
       "      <td>0</td>\n",
       "      <td>...</td>\n",
       "      <td>0</td>\n",
       "      <td>0</td>\n",
       "      <td>0</td>\n",
       "      <td>0</td>\n",
       "      <td>0</td>\n",
       "      <td>0</td>\n",
       "      <td>0</td>\n",
       "      <td>0</td>\n",
       "      <td>0</td>\n",
       "      <td>NaN</td>\n",
       "    </tr>\n",
       "    <tr>\n",
       "      <th>2</th>\n",
       "      <td>bakerno01</td>\n",
       "      <td>1946</td>\n",
       "      <td>1</td>\n",
       "      <td>CHS</td>\n",
       "      <td>NBA</td>\n",
       "      <td>4</td>\n",
       "      <td>0</td>\n",
       "      <td>0</td>\n",
       "      <td>0</td>\n",
       "      <td>0</td>\n",
       "      <td>...</td>\n",
       "      <td>0</td>\n",
       "      <td>0</td>\n",
       "      <td>0</td>\n",
       "      <td>0</td>\n",
       "      <td>0</td>\n",
       "      <td>0</td>\n",
       "      <td>0</td>\n",
       "      <td>0</td>\n",
       "      <td>0</td>\n",
       "      <td>NaN</td>\n",
       "    </tr>\n",
       "    <tr>\n",
       "      <th>3</th>\n",
       "      <td>baltihe01</td>\n",
       "      <td>1946</td>\n",
       "      <td>1</td>\n",
       "      <td>STB</td>\n",
       "      <td>NBA</td>\n",
       "      <td>58</td>\n",
       "      <td>0</td>\n",
       "      <td>0</td>\n",
       "      <td>138</td>\n",
       "      <td>0</td>\n",
       "      <td>...</td>\n",
       "      <td>0</td>\n",
       "      <td>0</td>\n",
       "      <td>3</td>\n",
       "      <td>10</td>\n",
       "      <td>2</td>\n",
       "      <td>1</td>\n",
       "      <td>0</td>\n",
       "      <td>0</td>\n",
       "      <td>0</td>\n",
       "      <td>NaN</td>\n",
       "    </tr>\n",
       "    <tr>\n",
       "      <th>4</th>\n",
       "      <td>barrjo01</td>\n",
       "      <td>1946</td>\n",
       "      <td>1</td>\n",
       "      <td>STB</td>\n",
       "      <td>NBA</td>\n",
       "      <td>58</td>\n",
       "      <td>0</td>\n",
       "      <td>0</td>\n",
       "      <td>295</td>\n",
       "      <td>0</td>\n",
       "      <td>...</td>\n",
       "      <td>0</td>\n",
       "      <td>0</td>\n",
       "      <td>0</td>\n",
       "      <td>0</td>\n",
       "      <td>0</td>\n",
       "      <td>0</td>\n",
       "      <td>0</td>\n",
       "      <td>0</td>\n",
       "      <td>0</td>\n",
       "      <td>NaN</td>\n",
       "    </tr>\n",
       "    <tr>\n",
       "      <th>...</th>\n",
       "      <td>...</td>\n",
       "      <td>...</td>\n",
       "      <td>...</td>\n",
       "      <td>...</td>\n",
       "      <td>...</td>\n",
       "      <td>...</td>\n",
       "      <td>...</td>\n",
       "      <td>...</td>\n",
       "      <td>...</td>\n",
       "      <td>...</td>\n",
       "      <td>...</td>\n",
       "      <td>...</td>\n",
       "      <td>...</td>\n",
       "      <td>...</td>\n",
       "      <td>...</td>\n",
       "      <td>...</td>\n",
       "      <td>...</td>\n",
       "      <td>...</td>\n",
       "      <td>...</td>\n",
       "      <td>...</td>\n",
       "      <td>...</td>\n",
       "    </tr>\n",
       "    <tr>\n",
       "      <th>23746</th>\n",
       "      <td>kaisero01</td>\n",
       "      <td>1962</td>\n",
       "      <td>0</td>\n",
       "      <td>PHT</td>\n",
       "      <td>ABL1</td>\n",
       "      <td>27</td>\n",
       "      <td>0</td>\n",
       "      <td>978</td>\n",
       "      <td>467</td>\n",
       "      <td>0</td>\n",
       "      <td>...</td>\n",
       "      <td>0</td>\n",
       "      <td>0</td>\n",
       "      <td>0</td>\n",
       "      <td>0</td>\n",
       "      <td>0</td>\n",
       "      <td>0</td>\n",
       "      <td>0</td>\n",
       "      <td>0</td>\n",
       "      <td>0</td>\n",
       "      <td>NaN</td>\n",
       "    </tr>\n",
       "    <tr>\n",
       "      <th>23747</th>\n",
       "      <td>spragbr01</td>\n",
       "      <td>1962</td>\n",
       "      <td>0</td>\n",
       "      <td>PHT</td>\n",
       "      <td>ABL1</td>\n",
       "      <td>27</td>\n",
       "      <td>0</td>\n",
       "      <td>746</td>\n",
       "      <td>356</td>\n",
       "      <td>0</td>\n",
       "      <td>...</td>\n",
       "      <td>0</td>\n",
       "      <td>0</td>\n",
       "      <td>0</td>\n",
       "      <td>0</td>\n",
       "      <td>0</td>\n",
       "      <td>0</td>\n",
       "      <td>0</td>\n",
       "      <td>0</td>\n",
       "      <td>0</td>\n",
       "      <td>NaN</td>\n",
       "    </tr>\n",
       "    <tr>\n",
       "      <th>23748</th>\n",
       "      <td>tayloro02</td>\n",
       "      <td>1962</td>\n",
       "      <td>0</td>\n",
       "      <td>PHT</td>\n",
       "      <td>ABL1</td>\n",
       "      <td>28</td>\n",
       "      <td>0</td>\n",
       "      <td>1007</td>\n",
       "      <td>355</td>\n",
       "      <td>0</td>\n",
       "      <td>...</td>\n",
       "      <td>0</td>\n",
       "      <td>0</td>\n",
       "      <td>0</td>\n",
       "      <td>0</td>\n",
       "      <td>0</td>\n",
       "      <td>0</td>\n",
       "      <td>0</td>\n",
       "      <td>0</td>\n",
       "      <td>0</td>\n",
       "      <td>NaN</td>\n",
       "    </tr>\n",
       "    <tr>\n",
       "      <th>23749</th>\n",
       "      <td>wellsra01</td>\n",
       "      <td>1962</td>\n",
       "      <td>0</td>\n",
       "      <td>PHT</td>\n",
       "      <td>ABL1</td>\n",
       "      <td>2</td>\n",
       "      <td>0</td>\n",
       "      <td>36</td>\n",
       "      <td>4</td>\n",
       "      <td>0</td>\n",
       "      <td>...</td>\n",
       "      <td>0</td>\n",
       "      <td>0</td>\n",
       "      <td>0</td>\n",
       "      <td>0</td>\n",
       "      <td>0</td>\n",
       "      <td>0</td>\n",
       "      <td>0</td>\n",
       "      <td>0</td>\n",
       "      <td>0</td>\n",
       "      <td>NaN</td>\n",
       "    </tr>\n",
       "    <tr>\n",
       "      <th>23750</th>\n",
       "      <td>wrighle01</td>\n",
       "      <td>1962</td>\n",
       "      <td>0</td>\n",
       "      <td>PHT</td>\n",
       "      <td>ABL1</td>\n",
       "      <td>28</td>\n",
       "      <td>0</td>\n",
       "      <td>813</td>\n",
       "      <td>195</td>\n",
       "      <td>0</td>\n",
       "      <td>...</td>\n",
       "      <td>0</td>\n",
       "      <td>0</td>\n",
       "      <td>0</td>\n",
       "      <td>0</td>\n",
       "      <td>0</td>\n",
       "      <td>0</td>\n",
       "      <td>0</td>\n",
       "      <td>0</td>\n",
       "      <td>0</td>\n",
       "      <td>NaN</td>\n",
       "    </tr>\n",
       "  </tbody>\n",
       "</table>\n",
       "<p>23751 rows × 42 columns</p>\n",
       "</div>"
      ],
      "text/plain": [
       "        playerID  year  stint tmID  lgID  GP  GS  minutes  points  oRebounds  \\\n",
       "0      abramjo01  1946      1  PIT   NBA  47   0        0     527          0   \n",
       "1      aubucch01  1946      1  DTF   NBA  30   0        0      65          0   \n",
       "2      bakerno01  1946      1  CHS   NBA   4   0        0       0          0   \n",
       "3      baltihe01  1946      1  STB   NBA  58   0        0     138          0   \n",
       "4       barrjo01  1946      1  STB   NBA  58   0        0     295          0   \n",
       "...          ...   ...    ...  ...   ...  ..  ..      ...     ...        ...   \n",
       "23746  kaisero01  1962      0  PHT  ABL1  27   0      978     467          0   \n",
       "23747  spragbr01  1962      0  PHT  ABL1  27   0      746     356          0   \n",
       "23748  tayloro02  1962      0  PHT  ABL1  28   0     1007     355          0   \n",
       "23749  wellsra01  1962      0  PHT  ABL1   2   0       36       4          0   \n",
       "23750  wrighle01  1962      0  PHT  ABL1  28   0      813     195          0   \n",
       "\n",
       "       ...  PostBlocks  PostTurnovers  PostPF  PostfgAttempted  PostfgMade  \\\n",
       "0      ...           0              0       0                0           0   \n",
       "1      ...           0              0       0                0           0   \n",
       "2      ...           0              0       0                0           0   \n",
       "3      ...           0              0       3               10           2   \n",
       "4      ...           0              0       0                0           0   \n",
       "...    ...         ...            ...     ...              ...         ...   \n",
       "23746  ...           0              0       0                0           0   \n",
       "23747  ...           0              0       0                0           0   \n",
       "23748  ...           0              0       0                0           0   \n",
       "23749  ...           0              0       0                0           0   \n",
       "23750  ...           0              0       0                0           0   \n",
       "\n",
       "       PostftAttempted  PostftMade  PostthreeAttempted  PostthreeMade  note  \n",
       "0                    0           0                   0              0   NaN  \n",
       "1                    0           0                   0              0   NaN  \n",
       "2                    0           0                   0              0   NaN  \n",
       "3                    1           0                   0              0   NaN  \n",
       "4                    0           0                   0              0   NaN  \n",
       "...                ...         ...                 ...            ...   ...  \n",
       "23746                0           0                   0              0   NaN  \n",
       "23747                0           0                   0              0   NaN  \n",
       "23748                0           0                   0              0   NaN  \n",
       "23749                0           0                   0              0   NaN  \n",
       "23750                0           0                   0              0   NaN  \n",
       "\n",
       "[23751 rows x 42 columns]"
      ]
     },
     "execution_count": 4,
     "metadata": {},
     "output_type": "execute_result"
    }
   ],
   "source": [
    "players"
   ]
  },
  {
   "cell_type": "code",
   "execution_count": 3,
   "metadata": {},
   "outputs": [
    {
     "data": {
      "text/plain": [
       "Index(['playerID', 'year', 'stint', 'tmID', 'lgID', 'GP', 'GS', 'minutes',\n",
       "       'points', 'oRebounds', 'dRebounds', 'rebounds', 'assists', 'steals',\n",
       "       'blocks', 'turnovers', 'PF', 'fgAttempted', 'fgMade', 'ftAttempted',\n",
       "       'ftMade', 'threeAttempted', 'threeMade', 'PostGP', 'PostGS',\n",
       "       'PostMinutes', 'PostPoints', 'PostoRebounds', 'PostdRebounds',\n",
       "       'PostRebounds', 'PostAssists', 'PostSteals', 'PostBlocks',\n",
       "       'PostTurnovers', 'PostPF', 'PostfgAttempted', 'PostfgMade',\n",
       "       'PostftAttempted', 'PostftMade', 'PostthreeAttempted', 'PostthreeMade',\n",
       "       'note'],\n",
       "      dtype='object')"
      ]
     },
     "execution_count": 3,
     "metadata": {},
     "output_type": "execute_result"
    }
   ],
   "source": [
    "players.columns"
   ]
  },
  {
   "cell_type": "code",
   "execution_count": 9,
   "metadata": {},
   "outputs": [
    {
     "name": "stdout",
     "output_type": "stream",
     "text": [
      "492.1306892341375\n",
      "329.0\n"
     ]
    }
   ],
   "source": [
    "mean = players[\"points\"].mean()\n",
    "median = players[\"points\"].median()\n",
    "\n",
    "print(mean)\n",
    "print(median)"
   ]
  },
  {
   "cell_type": "code",
   "execution_count": 13,
   "metadata": {},
   "outputs": [
    {
     "data": {
      "text/html": [
       "<div>\n",
       "<style scoped>\n",
       "    .dataframe tbody tr th:only-of-type {\n",
       "        vertical-align: middle;\n",
       "    }\n",
       "\n",
       "    .dataframe tbody tr th {\n",
       "        vertical-align: top;\n",
       "    }\n",
       "\n",
       "    .dataframe thead th {\n",
       "        text-align: right;\n",
       "    }\n",
       "</style>\n",
       "<table border=\"1\" class=\"dataframe\">\n",
       "  <thead>\n",
       "    <tr style=\"text-align: right;\">\n",
       "      <th></th>\n",
       "      <th>points</th>\n",
       "      <th>year</th>\n",
       "    </tr>\n",
       "  </thead>\n",
       "  <tbody>\n",
       "    <tr>\n",
       "      <th>0</th>\n",
       "      <td>527</td>\n",
       "      <td>1946</td>\n",
       "    </tr>\n",
       "    <tr>\n",
       "      <th>1</th>\n",
       "      <td>65</td>\n",
       "      <td>1946</td>\n",
       "    </tr>\n",
       "    <tr>\n",
       "      <th>2</th>\n",
       "      <td>0</td>\n",
       "      <td>1946</td>\n",
       "    </tr>\n",
       "    <tr>\n",
       "      <th>3</th>\n",
       "      <td>138</td>\n",
       "      <td>1946</td>\n",
       "    </tr>\n",
       "    <tr>\n",
       "      <th>4</th>\n",
       "      <td>295</td>\n",
       "      <td>1946</td>\n",
       "    </tr>\n",
       "    <tr>\n",
       "      <th>...</th>\n",
       "      <td>...</td>\n",
       "      <td>...</td>\n",
       "    </tr>\n",
       "    <tr>\n",
       "      <th>23746</th>\n",
       "      <td>467</td>\n",
       "      <td>1962</td>\n",
       "    </tr>\n",
       "    <tr>\n",
       "      <th>23747</th>\n",
       "      <td>356</td>\n",
       "      <td>1962</td>\n",
       "    </tr>\n",
       "    <tr>\n",
       "      <th>23748</th>\n",
       "      <td>355</td>\n",
       "      <td>1962</td>\n",
       "    </tr>\n",
       "    <tr>\n",
       "      <th>23749</th>\n",
       "      <td>4</td>\n",
       "      <td>1962</td>\n",
       "    </tr>\n",
       "    <tr>\n",
       "      <th>23750</th>\n",
       "      <td>195</td>\n",
       "      <td>1962</td>\n",
       "    </tr>\n",
       "  </tbody>\n",
       "</table>\n",
       "<p>23751 rows × 2 columns</p>\n",
       "</div>"
      ],
      "text/plain": [
       "       points  year\n",
       "0         527  1946\n",
       "1          65  1946\n",
       "2           0  1946\n",
       "3         138  1946\n",
       "4         295  1946\n",
       "...       ...   ...\n",
       "23746     467  1962\n",
       "23747     356  1962\n",
       "23748     355  1962\n",
       "23749       4  1962\n",
       "23750     195  1962\n",
       "\n",
       "[23751 rows x 2 columns]"
      ]
     },
     "execution_count": 13,
     "metadata": {},
     "output_type": "execute_result"
    }
   ],
   "source": [
    "\n",
    "points"
   ]
  },
  {
   "cell_type": "code",
   "execution_count": 9,
   "metadata": {},
   "outputs": [
    {
     "name": "stdout",
     "output_type": "stream",
     "text": [
      "Rebounds per season: Min:0, Max:2149, Mean:209.06, Median:133.0\n"
     ]
    }
   ],
   "source": [
    "min = players[\"rebounds\"].min()\n",
    "max = players[\"rebounds\"].max()\n",
    "mean = players[\"rebounds\"].mean()\n",
    "median = players[\"rebounds\"].median()\n",
    "\n",
    "print(\"Rebounds per season: Min:{}, Max:{}, Mean:{:.2f}, Median:{}\".format(min, max, mean, median))"
   ]
  },
  {
   "cell_type": "code",
   "execution_count": 10,
   "metadata": {},
   "outputs": [
    {
     "name": "stdout",
     "output_type": "stream",
     "text": [
      "       playerID  year  stint tmID lgID  GP  GS  minutes  points  oRebounds  \\\n",
      "1972  chambwi01  1960      1  PHW  NBA  79   0     3773    3033          0   \n",
      "2078  chambwi01  1961      1  PHW  NBA  80   0     3882    4029          0   \n",
      "2697  chambwi01  1966      1  PHI  NBA  81   0     3682    1956          0   \n",
      "2856  chambwi01  1967      1  PHI  NBA  82   0     3836    1992          0   \n",
      "2199  chambwi01  1962      1  SFW  NBA  80   0     3806    3586          0   \n",
      "2578  chambwi01  1965      1  PHI  NBA  79   0     3737    2649          0   \n",
      "1859  chambwi01  1959      1  PHW  NBA  72   0     3338    2707          0   \n",
      "2403  russebi01  1963      1  BOS  NBA  78   0     3482    1168          0   \n",
      "2534  russebi01  1964      1  BOS  NBA  78   0     3466    1102          0   \n",
      "2043  russebi01  1960      1  BOS  NBA  78   0     3458    1322          0   \n",
      "\n",
      "      ...  PostBlocks  PostTurnovers  PostPF  PostfgAttempted  PostfgMade  \\\n",
      "1972  ...           0              0      10               96          45   \n",
      "2078  ...           0              0      27              347         162   \n",
      "2697  ...           0              0      37              228         132   \n",
      "2856  ...           0              0      29              232         124   \n",
      "2199  ...           0              0       0                0           0   \n",
      "2578  ...           0              0      10              110          56   \n",
      "1859  ...           0              0      17              252         125   \n",
      "2403  ...           0              0      23              132          47   \n",
      "2534  ...           0              0      43              150          79   \n",
      "2043  ...           0              0      24              171          73   \n",
      "\n",
      "      PostftAttempted  PostftMade  PostthreeAttempted  PostthreeMade  note  \n",
      "1972               38          21                   0              0   NaN  \n",
      "2078              151          96                   0              0   NaN  \n",
      "2697              160          62                   0              0   NaN  \n",
      "2856              158          60                   0              0   NaN  \n",
      "2199                0           0                   0              0   NaN  \n",
      "2578               68          28                   0              0   NaN  \n",
      "1859              110          49                   0              0   NaN  \n",
      "2403               67          37                   0              0   NaN  \n",
      "2534               76          40                   0              0   NaN  \n",
      "2043               86          45                   0              0   NaN  \n",
      "\n",
      "[10 rows x 42 columns]\n"
     ]
    }
   ],
   "source": [
    "print(players.sort_values(\"rebounds\", ascending=False).head(10))"
   ]
  },
  {
   "cell_type": "code",
   "execution_count": 15,
   "metadata": {},
   "outputs": [
    {
     "name": "stdout",
     "output_type": "stream",
     "text": [
      "       playerID  year tmID  rebounds\n",
      "1972  chambwi01  1960  PHW      2149\n",
      "2078  chambwi01  1961  PHW      2052\n",
      "2697  chambwi01  1966  PHI      1957\n",
      "2856  chambwi01  1967  PHI      1952\n",
      "2199  chambwi01  1962  SFW      1946\n",
      "2578  chambwi01  1965  PHI      1943\n",
      "1859  chambwi01  1959  PHW      1941\n",
      "2403  russebi01  1963  BOS      1930\n",
      "2534  russebi01  1964  BOS      1878\n",
      "2043  russebi01  1960  BOS      1868\n"
     ]
    }
   ],
   "source": [
    "print(players[[\"playerID\", \"year\", \"tmID\", \"rebounds\"]].sort_values(\"rebounds\", ascending=False).head(10))"
   ]
  },
  {
   "cell_type": "code",
   "execution_count": 14,
   "metadata": {},
   "outputs": [
    {
     "data": {
      "text/plain": [
       "Index(['bioID', 'useFirst', 'firstName', 'middleName', 'lastName', 'nameGiven',\n",
       "       'fullGivenName', 'nameSuffix', 'nameNick', 'pos', 'firstseason',\n",
       "       'lastseason', 'height', 'weight', 'college', 'collegeOther',\n",
       "       'birthDate', 'birthCity', 'birthState', 'birthCountry', 'highSchool',\n",
       "       'hsCity', 'hsState', 'hsCountry', 'deathDate', 'race'],\n",
       "      dtype='object')"
      ]
     },
     "execution_count": 14,
     "metadata": {},
     "output_type": "execute_result"
    }
   ],
   "source": [
    "master = pd.read_csv(\"basketball_master.csv\")\n",
    "master.columns"
   ]
  },
  {
   "cell_type": "markdown",
   "metadata": {},
   "source": [
    "## Merging two Datasets"
   ]
  },
  {
   "cell_type": "code",
   "execution_count": 13,
   "metadata": {},
   "outputs": [],
   "source": [
    "# We can do a left join to \"merge\" these two datasets together\n",
    "nba = pd.merge(players, master, how=\"left\", left_on=\"playerID\", right_on=\"bioID\")"
   ]
  },
  {
   "cell_type": "code",
   "execution_count": 14,
   "metadata": {},
   "outputs": [
    {
     "data": {
      "text/html": [
       "<div>\n",
       "<style scoped>\n",
       "    .dataframe tbody tr th:only-of-type {\n",
       "        vertical-align: middle;\n",
       "    }\n",
       "\n",
       "    .dataframe tbody tr th {\n",
       "        vertical-align: top;\n",
       "    }\n",
       "\n",
       "    .dataframe thead th {\n",
       "        text-align: right;\n",
       "    }\n",
       "</style>\n",
       "<table border=\"1\" class=\"dataframe\">\n",
       "  <thead>\n",
       "    <tr style=\"text-align: right;\">\n",
       "      <th></th>\n",
       "      <th>playerID</th>\n",
       "      <th>year</th>\n",
       "      <th>stint</th>\n",
       "      <th>tmID</th>\n",
       "      <th>lgID</th>\n",
       "      <th>GP</th>\n",
       "      <th>GS</th>\n",
       "      <th>minutes</th>\n",
       "      <th>points</th>\n",
       "      <th>oRebounds</th>\n",
       "      <th>...</th>\n",
       "      <th>birthDate</th>\n",
       "      <th>birthCity</th>\n",
       "      <th>birthState</th>\n",
       "      <th>birthCountry</th>\n",
       "      <th>highSchool</th>\n",
       "      <th>hsCity</th>\n",
       "      <th>hsState</th>\n",
       "      <th>hsCountry</th>\n",
       "      <th>deathDate</th>\n",
       "      <th>race</th>\n",
       "    </tr>\n",
       "  </thead>\n",
       "  <tbody>\n",
       "    <tr>\n",
       "      <th>0</th>\n",
       "      <td>abramjo01</td>\n",
       "      <td>1946</td>\n",
       "      <td>1</td>\n",
       "      <td>PIT</td>\n",
       "      <td>NBA</td>\n",
       "      <td>47</td>\n",
       "      <td>0</td>\n",
       "      <td>0</td>\n",
       "      <td>527</td>\n",
       "      <td>0</td>\n",
       "      <td>...</td>\n",
       "      <td>1919-02-09</td>\n",
       "      <td>Etna</td>\n",
       "      <td>PA</td>\n",
       "      <td>USA</td>\n",
       "      <td>Etna</td>\n",
       "      <td>Etna</td>\n",
       "      <td>PA</td>\n",
       "      <td>USA</td>\n",
       "      <td>2000-06-09</td>\n",
       "      <td>W</td>\n",
       "    </tr>\n",
       "    <tr>\n",
       "      <th>1</th>\n",
       "      <td>aubucch01</td>\n",
       "      <td>1946</td>\n",
       "      <td>1</td>\n",
       "      <td>DTF</td>\n",
       "      <td>NBA</td>\n",
       "      <td>30</td>\n",
       "      <td>0</td>\n",
       "      <td>0</td>\n",
       "      <td>65</td>\n",
       "      <td>0</td>\n",
       "      <td>...</td>\n",
       "      <td>1916-05-18</td>\n",
       "      <td>Gary</td>\n",
       "      <td>IN</td>\n",
       "      <td>USA</td>\n",
       "      <td>Horace Mann</td>\n",
       "      <td>Gary</td>\n",
       "      <td>IN</td>\n",
       "      <td>USA</td>\n",
       "      <td>2005-04-14</td>\n",
       "      <td>W</td>\n",
       "    </tr>\n",
       "    <tr>\n",
       "      <th>2</th>\n",
       "      <td>bakerno01</td>\n",
       "      <td>1946</td>\n",
       "      <td>1</td>\n",
       "      <td>CHS</td>\n",
       "      <td>NBA</td>\n",
       "      <td>4</td>\n",
       "      <td>0</td>\n",
       "      <td>0</td>\n",
       "      <td>0</td>\n",
       "      <td>0</td>\n",
       "      <td>...</td>\n",
       "      <td>1923-02-17</td>\n",
       "      <td>Victoria</td>\n",
       "      <td>BC</td>\n",
       "      <td>CAN</td>\n",
       "      <td>NaN</td>\n",
       "      <td>NaN</td>\n",
       "      <td>NaN</td>\n",
       "      <td>NaN</td>\n",
       "      <td>1989-04-23</td>\n",
       "      <td>W</td>\n",
       "    </tr>\n",
       "    <tr>\n",
       "      <th>3</th>\n",
       "      <td>baltihe01</td>\n",
       "      <td>1946</td>\n",
       "      <td>1</td>\n",
       "      <td>STB</td>\n",
       "      <td>NBA</td>\n",
       "      <td>58</td>\n",
       "      <td>0</td>\n",
       "      <td>0</td>\n",
       "      <td>138</td>\n",
       "      <td>0</td>\n",
       "      <td>...</td>\n",
       "      <td>1921-06-21</td>\n",
       "      <td>(ht) New Castle</td>\n",
       "      <td>PA</td>\n",
       "      <td>USA</td>\n",
       "      <td>New Castle Senior</td>\n",
       "      <td>New Castle</td>\n",
       "      <td>PA</td>\n",
       "      <td>USA</td>\n",
       "      <td>1968-01-01</td>\n",
       "      <td>W</td>\n",
       "    </tr>\n",
       "    <tr>\n",
       "      <th>4</th>\n",
       "      <td>barrjo01</td>\n",
       "      <td>1946</td>\n",
       "      <td>1</td>\n",
       "      <td>STB</td>\n",
       "      <td>NBA</td>\n",
       "      <td>58</td>\n",
       "      <td>0</td>\n",
       "      <td>0</td>\n",
       "      <td>295</td>\n",
       "      <td>0</td>\n",
       "      <td>...</td>\n",
       "      <td>1918-08-08</td>\n",
       "      <td>NaN</td>\n",
       "      <td>NaN</td>\n",
       "      <td>NaN</td>\n",
       "      <td>Shamokin</td>\n",
       "      <td>Shamokin</td>\n",
       "      <td>PA</td>\n",
       "      <td>USA</td>\n",
       "      <td>2002-07-01</td>\n",
       "      <td>W</td>\n",
       "    </tr>\n",
       "    <tr>\n",
       "      <th>...</th>\n",
       "      <td>...</td>\n",
       "      <td>...</td>\n",
       "      <td>...</td>\n",
       "      <td>...</td>\n",
       "      <td>...</td>\n",
       "      <td>...</td>\n",
       "      <td>...</td>\n",
       "      <td>...</td>\n",
       "      <td>...</td>\n",
       "      <td>...</td>\n",
       "      <td>...</td>\n",
       "      <td>...</td>\n",
       "      <td>...</td>\n",
       "      <td>...</td>\n",
       "      <td>...</td>\n",
       "      <td>...</td>\n",
       "      <td>...</td>\n",
       "      <td>...</td>\n",
       "      <td>...</td>\n",
       "      <td>...</td>\n",
       "      <td>...</td>\n",
       "    </tr>\n",
       "    <tr>\n",
       "      <th>23746</th>\n",
       "      <td>kaisero01</td>\n",
       "      <td>1962</td>\n",
       "      <td>0</td>\n",
       "      <td>PHT</td>\n",
       "      <td>ABL1</td>\n",
       "      <td>27</td>\n",
       "      <td>0</td>\n",
       "      <td>978</td>\n",
       "      <td>467</td>\n",
       "      <td>0</td>\n",
       "      <td>...</td>\n",
       "      <td>1938-04-07</td>\n",
       "      <td>Dale</td>\n",
       "      <td>IN</td>\n",
       "      <td>USA</td>\n",
       "      <td>Dale</td>\n",
       "      <td>Dale</td>\n",
       "      <td>IN</td>\n",
       "      <td>USA</td>\n",
       "      <td>0000-00-00</td>\n",
       "      <td>W</td>\n",
       "    </tr>\n",
       "    <tr>\n",
       "      <th>23747</th>\n",
       "      <td>spragbr01</td>\n",
       "      <td>1962</td>\n",
       "      <td>0</td>\n",
       "      <td>PHT</td>\n",
       "      <td>ABL1</td>\n",
       "      <td>27</td>\n",
       "      <td>0</td>\n",
       "      <td>746</td>\n",
       "      <td>356</td>\n",
       "      <td>0</td>\n",
       "      <td>...</td>\n",
       "      <td>0000-00-00</td>\n",
       "      <td>Williamsburg</td>\n",
       "      <td>VA</td>\n",
       "      <td>USA</td>\n",
       "      <td>Williamsburg</td>\n",
       "      <td>Williamsburg</td>\n",
       "      <td>VA</td>\n",
       "      <td>USA</td>\n",
       "      <td>0000-00-00</td>\n",
       "      <td>B</td>\n",
       "    </tr>\n",
       "    <tr>\n",
       "      <th>23748</th>\n",
       "      <td>tayloro02</td>\n",
       "      <td>1962</td>\n",
       "      <td>0</td>\n",
       "      <td>PHT</td>\n",
       "      <td>ABL1</td>\n",
       "      <td>28</td>\n",
       "      <td>0</td>\n",
       "      <td>1007</td>\n",
       "      <td>355</td>\n",
       "      <td>0</td>\n",
       "      <td>...</td>\n",
       "      <td>1937-01-30</td>\n",
       "      <td>NaN</td>\n",
       "      <td>NaN</td>\n",
       "      <td>NaN</td>\n",
       "      <td>Rich</td>\n",
       "      <td>Park Forest</td>\n",
       "      <td>IL</td>\n",
       "      <td>USA</td>\n",
       "      <td>0000-00-00</td>\n",
       "      <td>W</td>\n",
       "    </tr>\n",
       "    <tr>\n",
       "      <th>23749</th>\n",
       "      <td>wellsra01</td>\n",
       "      <td>1962</td>\n",
       "      <td>0</td>\n",
       "      <td>PHT</td>\n",
       "      <td>ABL1</td>\n",
       "      <td>2</td>\n",
       "      <td>0</td>\n",
       "      <td>36</td>\n",
       "      <td>4</td>\n",
       "      <td>0</td>\n",
       "      <td>...</td>\n",
       "      <td>1940-09-03</td>\n",
       "      <td>NaN</td>\n",
       "      <td>NaN</td>\n",
       "      <td>NaN</td>\n",
       "      <td>Marshall</td>\n",
       "      <td>Chicago</td>\n",
       "      <td>IL</td>\n",
       "      <td>USA</td>\n",
       "      <td>1968-08-02</td>\n",
       "      <td>B</td>\n",
       "    </tr>\n",
       "    <tr>\n",
       "      <th>23750</th>\n",
       "      <td>wrighle01</td>\n",
       "      <td>1962</td>\n",
       "      <td>0</td>\n",
       "      <td>PHT</td>\n",
       "      <td>ABL1</td>\n",
       "      <td>28</td>\n",
       "      <td>0</td>\n",
       "      <td>813</td>\n",
       "      <td>195</td>\n",
       "      <td>0</td>\n",
       "      <td>...</td>\n",
       "      <td>1938-05-06</td>\n",
       "      <td>New York</td>\n",
       "      <td>NY</td>\n",
       "      <td>USA</td>\n",
       "      <td>Aycock</td>\n",
       "      <td>Rockdale</td>\n",
       "      <td>TX</td>\n",
       "      <td>USA</td>\n",
       "      <td>0000-00-00</td>\n",
       "      <td>B</td>\n",
       "    </tr>\n",
       "  </tbody>\n",
       "</table>\n",
       "<p>23751 rows × 68 columns</p>\n",
       "</div>"
      ],
      "text/plain": [
       "        playerID  year  stint tmID  lgID  GP  GS  minutes  points  oRebounds  \\\n",
       "0      abramjo01  1946      1  PIT   NBA  47   0        0     527          0   \n",
       "1      aubucch01  1946      1  DTF   NBA  30   0        0      65          0   \n",
       "2      bakerno01  1946      1  CHS   NBA   4   0        0       0          0   \n",
       "3      baltihe01  1946      1  STB   NBA  58   0        0     138          0   \n",
       "4       barrjo01  1946      1  STB   NBA  58   0        0     295          0   \n",
       "...          ...   ...    ...  ...   ...  ..  ..      ...     ...        ...   \n",
       "23746  kaisero01  1962      0  PHT  ABL1  27   0      978     467          0   \n",
       "23747  spragbr01  1962      0  PHT  ABL1  27   0      746     356          0   \n",
       "23748  tayloro02  1962      0  PHT  ABL1  28   0     1007     355          0   \n",
       "23749  wellsra01  1962      0  PHT  ABL1   2   0       36       4          0   \n",
       "23750  wrighle01  1962      0  PHT  ABL1  28   0      813     195          0   \n",
       "\n",
       "       ...   birthDate        birthCity  birthState  birthCountry  \\\n",
       "0      ...  1919-02-09             Etna          PA           USA   \n",
       "1      ...  1916-05-18             Gary          IN           USA   \n",
       "2      ...  1923-02-17         Victoria          BC           CAN   \n",
       "3      ...  1921-06-21  (ht) New Castle          PA           USA   \n",
       "4      ...  1918-08-08              NaN         NaN           NaN   \n",
       "...    ...         ...              ...         ...           ...   \n",
       "23746  ...  1938-04-07             Dale          IN           USA   \n",
       "23747  ...  0000-00-00     Williamsburg          VA           USA   \n",
       "23748  ...  1937-01-30              NaN         NaN           NaN   \n",
       "23749  ...  1940-09-03              NaN         NaN           NaN   \n",
       "23750  ...  1938-05-06         New York          NY           USA   \n",
       "\n",
       "              highSchool        hsCity  hsState  hsCountry   deathDate  race  \n",
       "0                   Etna          Etna       PA        USA  2000-06-09     W  \n",
       "1            Horace Mann          Gary       IN        USA  2005-04-14     W  \n",
       "2                    NaN           NaN      NaN        NaN  1989-04-23     W  \n",
       "3      New Castle Senior    New Castle       PA        USA  1968-01-01     W  \n",
       "4               Shamokin      Shamokin       PA        USA  2002-07-01     W  \n",
       "...                  ...           ...      ...        ...         ...   ...  \n",
       "23746               Dale          Dale       IN        USA  0000-00-00     W  \n",
       "23747       Williamsburg  Williamsburg       VA        USA  0000-00-00     B  \n",
       "23748               Rich   Park Forest       IL        USA  0000-00-00     W  \n",
       "23749           Marshall       Chicago       IL        USA  1968-08-02     B  \n",
       "23750             Aycock      Rockdale       TX        USA  0000-00-00     B  \n",
       "\n",
       "[23751 rows x 68 columns]"
      ]
     },
     "execution_count": 14,
     "metadata": {},
     "output_type": "execute_result"
    }
   ],
   "source": [
    "nba"
   ]
  },
  {
   "cell_type": "markdown",
   "metadata": {},
   "source": [
    "## CREATING NEW COLUMN and SORTING"
   ]
  },
  {
   "cell_type": "code",
   "execution_count": 15,
   "metadata": {},
   "outputs": [
    {
     "name": "stdout",
     "output_type": "stream",
     "text": [
      "       year useFirst     lastName  rebounds  GP  reboundsPerGame\n",
      "19295  2007     Mike       Conley       118   0              inf\n",
      "19828  2008     Mike       Conley       251   0              inf\n",
      "1972   1960     Wilt  Chamberlain      2149  79        27.202532\n",
      "1859   1959     Wilt  Chamberlain      1941  72        26.958333\n",
      "2078   1961     Wilt  Chamberlain      2052  80        25.650000\n",
      "2403   1963     Bill      Russell      1930  78        24.743590\n",
      "2578   1965     Wilt  Chamberlain      1943  79        24.594937\n",
      "2199   1962     Wilt  Chamberlain      1946  80        24.325000\n",
      "2697   1966     Wilt  Chamberlain      1957  81        24.160494\n",
      "2534   1964     Bill      Russell      1878  78        24.076923\n"
     ]
    }
   ],
   "source": [
    "nba[\"reboundsPerGame\"] = nba[\"rebounds\"] / nba[\"GP\"]\n",
    "print(nba[[\"year\", \"useFirst\", \"lastName\", \"rebounds\", \"GP\", \"reboundsPerGame\"]].sort_values(\"reboundsPerGame\", ascending=False).head(10))"
   ]
  },
  {
   "cell_type": "code",
   "execution_count": 17,
   "metadata": {},
   "outputs": [
    {
     "data": {
      "text/plain": [
       "27.20253164556962"
      ]
     },
     "execution_count": 17,
     "metadata": {},
     "output_type": "execute_result"
    }
   ],
   "source": [
    "2149/79"
   ]
  },
  {
   "cell_type": "code",
   "execution_count": 19,
   "metadata": {},
   "outputs": [
    {
     "data": {
      "text/plain": [
       "<matplotlib.axes._subplots.AxesSubplot at 0x18c27dce710>"
      ]
     },
     "execution_count": 19,
     "metadata": {},
     "output_type": "execute_result"
    },
    {
     "data": {
      "image/png": "[encoded data removed]",
      "text/plain": [
       "<Figure size 432x288 with 1 Axes>"
      ]
     },
     "metadata": {
      "needs_background": "light"
     },
     "output_type": "display_data"
    }
   ],
   "source": [
    "sn.boxplot(data=nba.reboundsPerGame)"
   ]
  },
  {
   "cell_type": "code",
   "execution_count": 21,
   "metadata": {},
   "outputs": [
    {
     "ename": "NameError",
     "evalue": "name 'plt' is not defined",
     "output_type": "error",
     "traceback": [
      "\u001b[1;31m---------------------------------------------------------------------------\u001b[0m",
      "\u001b[1;31mNameError\u001b[0m                                 Traceback (most recent call last)",
      "\u001b[1;32m<ipython-input-21-f32038a05333>\u001b[0m in \u001b[0;36m<module>\u001b[1;34m\u001b[0m\n\u001b[1;32m----> 1\u001b[1;33m \u001b[0mplt\u001b[0m\u001b[1;33m.\u001b[0m\u001b[0mshow\u001b[0m\u001b[1;33m(\u001b[0m\u001b[1;33m)\u001b[0m\u001b[1;33m\u001b[0m\u001b[1;33m\u001b[0m\u001b[0m\n\u001b[0m\u001b[0;32m      2\u001b[0m \u001b[0mplt\u001b[0m\u001b[1;33m.\u001b[0m\u001b[0msavefig\u001b[0m\u001b[1;33m(\u001b[0m\u001b[1;34m\"boxplot_reboundsPerGame.png\"\u001b[0m\u001b[1;33m)\u001b[0m\u001b[1;33m\u001b[0m\u001b[1;33m\u001b[0m\u001b[0m\n",
      "\u001b[1;31mNameError\u001b[0m: name 'plt' is not defined"
     ]
    }
   ],
   "source": [
    "plt.show()\n",
    "plt.savefig(\"boxplot_reboundsPerGame.png\")"
   ]
  },
  {
   "cell_type": "code",
   "execution_count": 23,
   "metadata": {},
   "outputs": [
    {
     "data": {
      "text/plain": [
       "<matplotlib.axes._subplots.AxesSubplot at 0x18c28044860>"
      ]
     },
     "execution_count": 23,
     "metadata": {},
     "output_type": "execute_result"
    },
    {
     "data": {
      "image/png": "[encoded data removed]",
      "text/plain": [
       "<Figure size 432x288 with 1 Axes>"
      ]
     },
     "metadata": {
      "needs_background": "light"
     },
     "output_type": "display_data"
    }
   ],
   "source": [
    "sn.boxplot(data=nba[[\"rebounds\", \"oRebounds\", \"dRebounds\"]])"
   ]
  },
  {
   "cell_type": "code",
   "execution_count": 25,
   "metadata": {},
   "outputs": [
    {
     "data": {
      "text/plain": [
       "<matplotlib.axes._subplots.AxesSubplot at 0x18c280e0c18>"
      ]
     },
     "execution_count": 25,
     "metadata": {},
     "output_type": "execute_result"
    },
    {
     "data": {
      "image/png": "[encoded data removed]",
      "text/plain": [
       "<Figure size 432x288 with 1 Axes>"
      ]
     },
     "metadata": {
      "needs_background": "light"
     },
     "output_type": "display_data"
    }
   ],
   "source": [
    "# Get a subset of the data where the year is between 1980 and 1990\n",
    "eighties = nba[(nba.year >= 1980) & (nba.year < 1990)]\n",
    "sn.boxplot(eighties[\"reboundsPerGame\"], orient=\"v\")"
   ]
  },
  {
   "cell_type": "code",
   "execution_count": 27,
   "metadata": {},
   "outputs": [
    {
     "name": "stderr",
     "output_type": "stream",
     "text": [
      "C:\\Users\\nolanchiggs\\Anaconda3\\lib\\site-packages\\seaborn\\axisgrid.py:715: UserWarning: Using the boxplot function without specifying `order` is likely to produce an incorrect plot.\n",
      "  warnings.warn(warning)\n"
     ]
    },
    {
     "data": {
      "text/plain": [
       "<seaborn.axisgrid.FacetGrid at 0x18c28e64a58>"
      ]
     },
     "execution_count": 27,
     "metadata": {},
     "output_type": "execute_result"
    },
    {
     "data": {
      "image/png": "[encoded data removed]",
      "text/plain": [
       "<Figure size 2160x216 with 10 Axes>"
      ]
     },
     "metadata": {
      "needs_background": "light"
     },
     "output_type": "display_data"
    }
   ],
   "source": [
    "grid = sn.FacetGrid(eighties, col=\"year\")\n",
    "grid.map(sn.boxplot, \"reboundsPerGame\", orient=\"v\")"
   ]
  },
  {
   "cell_type": "code",
   "execution_count": 28,
   "metadata": {},
   "outputs": [
    {
     "name": "stdout",
     "output_type": "stream",
     "text": [
      "      reboundsPerGame\n",
      "year                 \n",
      "1937         0.000000\n",
      "1938         0.000000\n",
      "1939         0.000000\n",
      "1940         0.000000\n",
      "1941         0.000000\n",
      "...               ...\n",
      "2007         2.823529\n",
      "2008         2.972088\n",
      "2009         2.893257\n",
      "2010         2.856483\n",
      "2011         3.019434\n",
      "\n",
      "[75 rows x 1 columns]\n"
     ]
    }
   ],
   "source": [
    "nba_grouped_year = nba[[\"reboundsPerGame\", \"year\"]].groupby(\"year\").median()\n",
    "print(nba_grouped_year)"
   ]
  },
  {
   "cell_type": "code",
   "execution_count": 29,
   "metadata": {},
   "outputs": [
    {
     "data": {
      "text/plain": [
       "<matplotlib.axes._subplots.AxesSubplot at 0x18c29b6d630>"
      ]
     },
     "execution_count": 29,
     "metadata": {},
     "output_type": "execute_result"
    },
    {
     "data": {
      "image/png": "[encoded data removed]",
      "text/plain": [
       "<Figure size 432x288 with 1 Axes>"
      ]
     },
     "metadata": {
      "needs_background": "light"
     },
     "output_type": "display_data"
    }
   ],
   "source": [
    "nba_grouped_year = nba_grouped_year.reset_index()\n",
    "sn.regplot(data=nba_grouped_year, x=\"year\", y=\"reboundsPerGame\")"
   ]
  },
  {
   "cell_type": "code",
   "execution_count": 31,
   "metadata": {},
   "outputs": [
    {
     "data": {
      "text/plain": [
       "Text(0.5, 1.0, 'Median rebounds per Year')"
      ]
     },
     "execution_count": 31,
     "metadata": {},
     "output_type": "execute_result"
    },
    {
     "data": {
      "image/png": "[encoded data removed]",
      "text/plain": [
       "<Figure size 432x288 with 1 Axes>"
      ]
     },
     "metadata": {
      "needs_background": "light"
     },
     "output_type": "display_data"
    }
   ],
   "source": [
    "nba_grouped_year = nba_grouped_year[nba_grouped_year[\"reboundsPerGame\"] > 0]\n",
    "sn.regplot(data=nba_grouped_year, x=\"year\", y=\"reboundsPerGame\").set_title(\"Median rebounds per Year\")\n"
   ]
  },
  {
   "cell_type": "code",
   "execution_count": null,
   "metadata": {},
   "outputs": [],
   "source": []
  }
 ],
 "metadata": {
  "kernelspec": {
   "display_name": "Python 3",
   "language": "python",
   "name": "python3"
  },
  "language_info": {
   "codemirror_mode": {
    "name": "ipython",
    "version": 3
   },
   "file_extension": ".py",
   "mimetype": "text/x-python",
   "name": "python",
   "nbconvert_exporter": "python",
   "pygments_lexer": "ipython3",
   "version": "3.7.3"
  }
 },
 "nbformat": 4,
 "nbformat_minor": 2
}
