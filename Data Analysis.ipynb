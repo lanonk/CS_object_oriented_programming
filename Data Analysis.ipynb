{
 "cells": [
  {
   "cell_type": "code",
   "execution_count": 1,
   "metadata": {
    "scrolled": true
   },
   "outputs": [
    {
     "name": "stderr",
     "output_type": "stream",
     "text": [
      "C:\\Users\\nolanchiggs\\Anaconda3\\lib\\site-packages\\statsmodels\\tools\\_testing.py:19: FutureWarning: pandas.util.testing is deprecated. Use the functions in the public API at pandas.testing instead.\n",
      "  import pandas.util.testing as tm\n"
     ]
    }
   ],
   "source": [
    "import pandas as pd\n",
    "import seaborn as sns\n",
    "import matplotlib.pyplot as plt\n",
    "%matplotlib inline\n",
    "import os\n",
    "import warnings\n",
    "warnings.filterwarnings(\"ignore\")\n",
    "sns.set_style(\"darkgrid\")"
   ]
  },
  {
   "cell_type": "markdown",
   "metadata": {},
   "source": [
    "##### Also filtered the games played \"GP\" to 75 and more because in statistics, the wider the range or sample size, the smaller the margin of error and the closer we are to finding the true mean. In some instance, I will be comparing the two throughout the project."
   ]
  },
  {
   "cell_type": "markdown",
   "metadata": {},
   "source": [
    "REMOVED ALL THE GAMES PLAYED \"GP\" THAT HAD ZERO VALUES\n",
    "\n",
    "REALIZED THAT THE DATA ALSO INCLUDED OTHER LEAGUES AND I DECIDED TO FILTERED ONLY TO THE NBA "
   ]
  },
  {
   "cell_type": "code",
   "execution_count": 2,
   "metadata": {},
   "outputs": [],
   "source": [
    "players = pd.read_csv(\"basketball_players.csv\")\n",
    "master = pd.read_csv(\"basketball_master.csv\")\n",
    "nba = pd.merge(players, master, how=\"left\", left_on=\"playerID\", right_on=\"bioID\")        #combines the two datasets\n",
    "nba = nba[nba['lgID'] == 'NBA'] #selected nba league only\n",
    "nba =nba[nba['GP'] > 0] #removes all the games played with zero  values \n",
    "nba75 = nba[nba['GP'] > 75] #filter applied here"
   ]
  },
  {
   "cell_type": "code",
   "execution_count": 3,
   "metadata": {},
   "outputs": [
    {
     "data": {
      "text/plain": [
       "0        NBA\n",
       "1        NBA\n",
       "2        NBA\n",
       "3        NBA\n",
       "4        NBA\n",
       "        ... \n",
       "21808    NBA\n",
       "21809    NBA\n",
       "21810    NBA\n",
       "21811    NBA\n",
       "21812    NBA\n",
       "Name: lgID, Length: 20239, dtype: object"
      ]
     },
     "execution_count": 3,
     "metadata": {},
     "output_type": "execute_result"
    }
   ],
   "source": [
    "nba['lgID']"
   ]
  },
  {
   "cell_type": "markdown",
   "metadata": {},
   "source": [
    "### Calculate the mean and median number of points scored. (In other words, each row is the amount of points a player scored during a particular season. Calculate the median of these values. The result of this is that we have the median number of points players score each season.)"
   ]
  },
  {
   "cell_type": "code",
   "execution_count": 8,
   "metadata": {},
   "outputs": [],
   "source": [
    "points= nba[[\"points\", 'year']]                 # selects specific columns in the dataset\n",
    "means = points.groupby(['year']).mean()           #finds average scores per season\n",
    "medians = points.groupby(['year']).median()       #finds the center or middle scores per season\n",
    "#group by function, takes into account all the points made in that specific year and yearly calculates the means and medians"
   ]
  },
  {
   "cell_type": "markdown",
   "metadata": {},
   "source": [
    "#### MEANS\n",
    "Its showing all the mean points for each respective season\n",
    "~ sorting by points "
   ]
  },
  {
   "cell_type": "code",
   "execution_count": 9,
   "metadata": {
    "scrolled": true
   },
   "outputs": [
    {
     "data": {
      "text/html": [
       "<div>\n",
       "<style scoped>\n",
       "    .dataframe tbody tr th:only-of-type {\n",
       "        vertical-align: middle;\n",
       "    }\n",
       "\n",
       "    .dataframe tbody tr th {\n",
       "        vertical-align: top;\n",
       "    }\n",
       "\n",
       "    .dataframe thead th {\n",
       "        text-align: right;\n",
       "    }\n",
       "</style>\n",
       "<table border=\"1\" class=\"dataframe\">\n",
       "  <thead>\n",
       "    <tr style=\"text-align: right;\">\n",
       "      <th></th>\n",
       "      <th>points</th>\n",
       "    </tr>\n",
       "    <tr>\n",
       "      <th>year</th>\n",
       "      <th></th>\n",
       "    </tr>\n",
       "  </thead>\n",
       "  <tbody>\n",
       "    <tr>\n",
       "      <th>2010</th>\n",
       "      <td>451.533088</td>\n",
       "    </tr>\n",
       "    <tr>\n",
       "      <th>1996</th>\n",
       "      <td>450.945205</td>\n",
       "    </tr>\n",
       "    <tr>\n",
       "      <th>2003</th>\n",
       "      <td>429.588008</td>\n",
       "    </tr>\n",
       "    <tr>\n",
       "      <th>1950</th>\n",
       "      <td>425.800000</td>\n",
       "    </tr>\n",
       "    <tr>\n",
       "      <th>2011</th>\n",
       "      <td>369.899225</td>\n",
       "    </tr>\n",
       "    <tr>\n",
       "      <th>1949</th>\n",
       "      <td>333.888476</td>\n",
       "    </tr>\n",
       "    <tr>\n",
       "      <th>1998</th>\n",
       "      <td>280.151899</td>\n",
       "    </tr>\n",
       "    <tr>\n",
       "      <th>1948</th>\n",
       "      <td>274.328571</td>\n",
       "    </tr>\n",
       "    <tr>\n",
       "      <th>1946</th>\n",
       "      <td>245.142077</td>\n",
       "    </tr>\n",
       "    <tr>\n",
       "      <th>1947</th>\n",
       "      <td>234.428571</td>\n",
       "    </tr>\n",
       "  </tbody>\n",
       "</table>\n",
       "</div>"
      ],
      "text/plain": [
       "          points\n",
       "year            \n",
       "2010  451.533088\n",
       "1996  450.945205\n",
       "2003  429.588008\n",
       "1950  425.800000\n",
       "2011  369.899225\n",
       "1949  333.888476\n",
       "1998  280.151899\n",
       "1948  274.328571\n",
       "1946  245.142077\n",
       "1947  234.428571"
      ]
     },
     "execution_count": 9,
     "metadata": {},
     "output_type": "execute_result"
    }
   ],
   "source": [
    "means.sort_values('points', ascending = False).tail(10)\n",
    "# head limits to the first 10"
   ]
  },
  {
   "cell_type": "markdown",
   "metadata": {},
   "source": [
    "#### MEDIANs\n",
    "\n",
    "Its showing all the 'medians' points made in each respective season ~ sorting by points"
   ]
  },
  {
   "cell_type": "code",
   "execution_count": 10,
   "metadata": {},
   "outputs": [
    {
     "data": {
      "text/html": [
       "<div>\n",
       "<style scoped>\n",
       "    .dataframe tbody tr th:only-of-type {\n",
       "        vertical-align: middle;\n",
       "    }\n",
       "\n",
       "    .dataframe tbody tr th {\n",
       "        vertical-align: top;\n",
       "    }\n",
       "\n",
       "    .dataframe thead th {\n",
       "        text-align: right;\n",
       "    }\n",
       "</style>\n",
       "<table border=\"1\" class=\"dataframe\">\n",
       "  <thead>\n",
       "    <tr style=\"text-align: right;\">\n",
       "      <th></th>\n",
       "      <th>points</th>\n",
       "    </tr>\n",
       "    <tr>\n",
       "      <th>year</th>\n",
       "      <th></th>\n",
       "    </tr>\n",
       "  </thead>\n",
       "  <tbody>\n",
       "    <tr>\n",
       "      <th>2008</th>\n",
       "      <td>296.0</td>\n",
       "    </tr>\n",
       "    <tr>\n",
       "      <th>2007</th>\n",
       "      <td>286.0</td>\n",
       "    </tr>\n",
       "    <tr>\n",
       "      <th>1996</th>\n",
       "      <td>278.0</td>\n",
       "    </tr>\n",
       "    <tr>\n",
       "      <th>2003</th>\n",
       "      <td>271.0</td>\n",
       "    </tr>\n",
       "    <tr>\n",
       "      <th>2011</th>\n",
       "      <td>269.5</td>\n",
       "    </tr>\n",
       "    <tr>\n",
       "      <th>1949</th>\n",
       "      <td>267.0</td>\n",
       "    </tr>\n",
       "    <tr>\n",
       "      <th>1998</th>\n",
       "      <td>206.0</td>\n",
       "    </tr>\n",
       "    <tr>\n",
       "      <th>1948</th>\n",
       "      <td>202.0</td>\n",
       "    </tr>\n",
       "    <tr>\n",
       "      <th>1946</th>\n",
       "      <td>165.0</td>\n",
       "    </tr>\n",
       "    <tr>\n",
       "      <th>1947</th>\n",
       "      <td>156.0</td>\n",
       "    </tr>\n",
       "  </tbody>\n",
       "</table>\n",
       "</div>"
      ],
      "text/plain": [
       "      points\n",
       "year        \n",
       "2008   296.0\n",
       "2007   286.0\n",
       "1996   278.0\n",
       "2003   271.0\n",
       "2011   269.5\n",
       "1949   267.0\n",
       "1998   206.0\n",
       "1948   202.0\n",
       "1946   165.0\n",
       "1947   156.0"
      ]
     },
     "execution_count": 10,
     "metadata": {},
     "output_type": "execute_result"
    }
   ],
   "source": [
    "medians.sort_values('points', ascending = False).tail(10)"
   ]
  },
  {
   "cell_type": "markdown",
   "metadata": {},
   "source": [
    "### Determine the highest number of points recorded in a single season. Identify who scored those points and the year they did so."
   ]
  },
  {
   "cell_type": "code",
   "execution_count": 11,
   "metadata": {},
   "outputs": [],
   "source": [
    "eez = nba[['year','points','GP','firstName', 'lastName']]\n",
    "highest_points = eez.groupby(['year'])['points'].transform(max) == eez['points']\n",
    "maximum = eez[highest_points].sort_values('year', ascending = False) # sorts from earliest to oldest\n"
   ]
  },
  {
   "cell_type": "markdown",
   "metadata": {},
   "source": [
    "Its showing the highest points made by the player in that respective season ~ sorting by year"
   ]
  },
  {
   "cell_type": "code",
   "execution_count": 12,
   "metadata": {},
   "outputs": [
    {
     "data": {
      "text/html": [
       "<div>\n",
       "<style scoped>\n",
       "    .dataframe tbody tr th:only-of-type {\n",
       "        vertical-align: middle;\n",
       "    }\n",
       "\n",
       "    .dataframe tbody tr th {\n",
       "        vertical-align: top;\n",
       "    }\n",
       "\n",
       "    .dataframe thead th {\n",
       "        text-align: right;\n",
       "    }\n",
       "</style>\n",
       "<table border=\"1\" class=\"dataframe\">\n",
       "  <thead>\n",
       "    <tr style=\"text-align: right;\">\n",
       "      <th></th>\n",
       "      <th>year</th>\n",
       "      <th>points</th>\n",
       "      <th>GP</th>\n",
       "      <th>firstName</th>\n",
       "      <th>lastName</th>\n",
       "    </tr>\n",
       "  </thead>\n",
       "  <tbody>\n",
       "    <tr>\n",
       "      <th>20910</th>\n",
       "      <td>2011</td>\n",
       "      <td>1850</td>\n",
       "      <td>66</td>\n",
       "      <td>Kevin</td>\n",
       "      <td>Durant</td>\n",
       "    </tr>\n",
       "    <tr>\n",
       "      <th>21430</th>\n",
       "      <td>2010</td>\n",
       "      <td>2161</td>\n",
       "      <td>78</td>\n",
       "      <td>Kevin</td>\n",
       "      <td>Durant</td>\n",
       "    </tr>\n",
       "    <tr>\n",
       "      <th>20378</th>\n",
       "      <td>2009</td>\n",
       "      <td>2472</td>\n",
       "      <td>82</td>\n",
       "      <td>Kevin</td>\n",
       "      <td>Durant</td>\n",
       "    </tr>\n",
       "    <tr>\n",
       "      <th>20200</th>\n",
       "      <td>2008</td>\n",
       "      <td>2386</td>\n",
       "      <td>79</td>\n",
       "      <td>Dwyane</td>\n",
       "      <td>Wade</td>\n",
       "    </tr>\n",
       "    <tr>\n",
       "      <th>19273</th>\n",
       "      <td>2007</td>\n",
       "      <td>2323</td>\n",
       "      <td>82</td>\n",
       "      <td>Kobe</td>\n",
       "      <td>Bryant</td>\n",
       "    </tr>\n",
       "    <tr>\n",
       "      <th>...</th>\n",
       "      <td>...</td>\n",
       "      <td>...</td>\n",
       "      <td>...</td>\n",
       "      <td>...</td>\n",
       "      <td>...</td>\n",
       "    </tr>\n",
       "    <tr>\n",
       "      <th>889</th>\n",
       "      <td>1950</td>\n",
       "      <td>1932</td>\n",
       "      <td>68</td>\n",
       "      <td>George</td>\n",
       "      <td>Mikan</td>\n",
       "    </tr>\n",
       "    <tr>\n",
       "      <th>663</th>\n",
       "      <td>1949</td>\n",
       "      <td>1865</td>\n",
       "      <td>68</td>\n",
       "      <td>George</td>\n",
       "      <td>Mikan</td>\n",
       "    </tr>\n",
       "    <tr>\n",
       "      <th>411</th>\n",
       "      <td>1948</td>\n",
       "      <td>1698</td>\n",
       "      <td>60</td>\n",
       "      <td>George</td>\n",
       "      <td>Mikan</td>\n",
       "    </tr>\n",
       "    <tr>\n",
       "      <th>301</th>\n",
       "      <td>1947</td>\n",
       "      <td>1007</td>\n",
       "      <td>48</td>\n",
       "      <td>Max</td>\n",
       "      <td>Zaslofsky</td>\n",
       "    </tr>\n",
       "    <tr>\n",
       "      <th>47</th>\n",
       "      <td>1946</td>\n",
       "      <td>1389</td>\n",
       "      <td>60</td>\n",
       "      <td>Joseph</td>\n",
       "      <td>Fulks</td>\n",
       "    </tr>\n",
       "  </tbody>\n",
       "</table>\n",
       "<p>66 rows × 5 columns</p>\n",
       "</div>"
      ],
      "text/plain": [
       "       year  points  GP firstName   lastName\n",
       "20910  2011    1850  66     Kevin     Durant\n",
       "21430  2010    2161  78     Kevin     Durant\n",
       "20378  2009    2472  82     Kevin     Durant\n",
       "20200  2008    2386  79    Dwyane       Wade\n",
       "19273  2007    2323  82      Kobe     Bryant\n",
       "...     ...     ...  ..       ...        ...\n",
       "889    1950    1932  68    George      Mikan\n",
       "663    1949    1865  68    George      Mikan\n",
       "411    1948    1698  60    George      Mikan\n",
       "301    1947    1007  48       Max  Zaslofsky\n",
       "47     1946    1389  60    Joseph      Fulks\n",
       "\n",
       "[66 rows x 5 columns]"
      ]
     },
     "execution_count": 12,
     "metadata": {},
     "output_type": "execute_result"
    }
   ],
   "source": [
    "maximum"
   ]
  },
  {
   "cell_type": "markdown",
   "metadata": {},
   "source": [
    "### Produce a boxplot that shows the distribution of total points, total assists, and total rebounds (each of these three is a separate box plot, but they can be on the same scale and in the same graphic)."
   ]
  },
  {
   "cell_type": "markdown",
   "metadata": {},
   "source": [
    "#### Produced two boxplots and we realized that with 75 games or more, the outliers are reduced and the averages are much higher compared to when we include all games played"
   ]
  },
  {
   "cell_type": "code",
   "execution_count": 13,
   "metadata": {},
   "outputs": [
    {
     "data": {
      "text/plain": [
       "Text(0.5, 1.0, '75 GP_&_BEYOND')"
      ]
     },
     "execution_count": 13,
     "metadata": {},
     "output_type": "execute_result"
    },
    {
     "data": {
      "image/png": "[encoded data removed]",
      "text/plain": [
       "<Figure size 432x288 with 2 Axes>"
      ]
     },
     "metadata": {},
     "output_type": "display_data"
    }
   ],
   "source": [
    "fig,(a, b) = plt.subplots(ncols=2, sharey=True)         # allows both boxplots to appear on the same line\n",
    "sns.boxplot(data=nba[['points','rebounds', 'assists']], ax = a).set_title('ALL Games')    #produces the boxplots\n",
    "sns.boxplot(data=nba75[['points','rebounds', 'assists']], ax =b).set_title('75 GP_&_BEYOND') #nba75 was used   \n"
   ]
  },
  {
   "cell_type": "markdown",
   "metadata": {},
   "source": [
    "### Produce a plot that shows how the number of points scored has changed over time by showing the median of points scored per year, over time. The x-axis is the year and the y-axis is the median number of points among all players for that year# "
   ]
  },
  {
   "cell_type": "code",
   "execution_count": 14,
   "metadata": {},
   "outputs": [
    {
     "data": {
      "text/html": [
       "<div>\n",
       "<style scoped>\n",
       "    .dataframe tbody tr th:only-of-type {\n",
       "        vertical-align: middle;\n",
       "    }\n",
       "\n",
       "    .dataframe tbody tr th {\n",
       "        vertical-align: top;\n",
       "    }\n",
       "\n",
       "    .dataframe thead th {\n",
       "        text-align: right;\n",
       "    }\n",
       "</style>\n",
       "<table border=\"1\" class=\"dataframe\">\n",
       "  <thead>\n",
       "    <tr style=\"text-align: right;\">\n",
       "      <th></th>\n",
       "      <th>points</th>\n",
       "    </tr>\n",
       "    <tr>\n",
       "      <th>year</th>\n",
       "      <th></th>\n",
       "    </tr>\n",
       "  </thead>\n",
       "  <tbody>\n",
       "    <tr>\n",
       "      <th>1946</th>\n",
       "      <td>165.0</td>\n",
       "    </tr>\n",
       "    <tr>\n",
       "      <th>1947</th>\n",
       "      <td>156.0</td>\n",
       "    </tr>\n",
       "    <tr>\n",
       "      <th>1948</th>\n",
       "      <td>202.0</td>\n",
       "    </tr>\n",
       "    <tr>\n",
       "      <th>1949</th>\n",
       "      <td>267.0</td>\n",
       "    </tr>\n",
       "    <tr>\n",
       "      <th>1950</th>\n",
       "      <td>355.5</td>\n",
       "    </tr>\n",
       "    <tr>\n",
       "      <th>1951</th>\n",
       "      <td>474.0</td>\n",
       "    </tr>\n",
       "    <tr>\n",
       "      <th>1952</th>\n",
       "      <td>436.0</td>\n",
       "    </tr>\n",
       "    <tr>\n",
       "      <th>1953</th>\n",
       "      <td>452.0</td>\n",
       "    </tr>\n",
       "    <tr>\n",
       "      <th>1954</th>\n",
       "      <td>428.5</td>\n",
       "    </tr>\n",
       "    <tr>\n",
       "      <th>1955</th>\n",
       "      <td>521.0</td>\n",
       "    </tr>\n",
       "  </tbody>\n",
       "</table>\n",
       "</div>"
      ],
      "text/plain": [
       "      points\n",
       "year        \n",
       "1946   165.0\n",
       "1947   156.0\n",
       "1948   202.0\n",
       "1949   267.0\n",
       "1950   355.5\n",
       "1951   474.0\n",
       "1952   436.0\n",
       "1953   452.0\n",
       "1954   428.5\n",
       "1955   521.0"
      ]
     },
     "execution_count": 14,
     "metadata": {},
     "output_type": "execute_result"
    }
   ],
   "source": [
    "points_scored = nba[[\"points\", \"year\"]].groupby(\"year\").median()\n",
    "points_scored.head(10)"
   ]
  },
  {
   "cell_type": "markdown",
   "metadata": {},
   "source": [
    "#### The plot produced is not really helpful for the dots are not constantly distributed, in other words, the distribution of this data is not normal, hmmm...."
   ]
  },
  {
   "cell_type": "code",
   "execution_count": 15,
   "metadata": {
    "scrolled": true
   },
   "outputs": [
    {
     "data": {
      "text/plain": [
       "Text(0.5, 1.0, 'Points score changing over time')"
      ]
     },
     "execution_count": 15,
     "metadata": {},
     "output_type": "execute_result"
    },
    {
     "data": {
      "image/png": "[encoded data removed]",
      "text/plain": [
       "<Figure size 432x288 with 1 Axes>"
      ]
     },
     "metadata": {},
     "output_type": "display_data"
    }
   ],
   "source": [
    "points_scored = points_scored.reset_index()   #makes it possible for it to be called in the next code\n",
    "sns.regplot(data=points_scored, x=\"year\", y=\"points\").set_title(\"Points score changing over time\")"
   ]
  },
  {
   "cell_type": "markdown",
   "metadata": {},
   "source": [
    "#### I went on to use the filtered data and below are the results that have been produced. Its now consitent .Generally the average points scored has been decreasing over-time."
   ]
  },
  {
   "cell_type": "code",
   "execution_count": 16,
   "metadata": {},
   "outputs": [
    {
     "data": {
      "text/plain": [
       "Text(0.5, 1.0, ' 75GP Points score changing over time')"
      ]
     },
     "execution_count": 16,
     "metadata": {},
     "output_type": "execute_result"
    },
    {
     "data": {
      "image/png": "[encoded data removed]",
      "text/plain": [
       "<Figure size 432x288 with 1 Axes>"
      ]
     },
     "metadata": {},
     "output_type": "display_data"
    }
   ],
   "source": [
    "points_scoredd = nba75[[\"points\", \"year\"]].groupby(\"year\").median()        #nba75 data was used\n",
    "points_scoredd = points_scoredd.reset_index()\n",
    "sns.regplot(data=points_scoredd, x=\"year\", y=\"points\").set_title(\" 75GP Points score changing over time\")"
   ]
  },
  {
   "cell_type": "markdown",
   "metadata": {},
   "source": [
    "# Part 2"
   ]
  },
  {
   "cell_type": "markdown",
   "metadata": {},
   "source": [
    "### Some players score a lot of points because they attempt a lot of shots. Among players that have scored a lot of points, are there some that are much more efficient (points per attempt) than others?"
   ]
  },
  {
   "cell_type": "markdown",
   "metadata": {},
   "source": [
    "#### Kareem was the most effecient score in fg"
   ]
  },
  {
   "cell_type": "code",
   "execution_count": 17,
   "metadata": {},
   "outputs": [
    {
     "data": {
      "text/html": [
       "<div>\n",
       "<style scoped>\n",
       "    .dataframe tbody tr th:only-of-type {\n",
       "        vertical-align: middle;\n",
       "    }\n",
       "\n",
       "    .dataframe tbody tr th {\n",
       "        vertical-align: top;\n",
       "    }\n",
       "\n",
       "    .dataframe thead th {\n",
       "        text-align: right;\n",
       "    }\n",
       "</style>\n",
       "<table border=\"1\" class=\"dataframe\">\n",
       "  <thead>\n",
       "    <tr style=\"text-align: right;\">\n",
       "      <th></th>\n",
       "      <th>firstName</th>\n",
       "      <th>lastName</th>\n",
       "      <th>GP</th>\n",
       "      <th>points</th>\n",
       "      <th>fgAttempted</th>\n",
       "      <th>fgMade</th>\n",
       "      <th>fgmade_per_attempt</th>\n",
       "    </tr>\n",
       "  </thead>\n",
       "  <tbody>\n",
       "    <tr>\n",
       "      <th>4289</th>\n",
       "      <td>Kareem</td>\n",
       "      <td>Abdul-Jabbar</td>\n",
       "      <td>81</td>\n",
       "      <td>2822</td>\n",
       "      <td>2019</td>\n",
       "      <td>1159</td>\n",
       "      <td>0.574047</td>\n",
       "    </tr>\n",
       "    <tr>\n",
       "      <th>2199</th>\n",
       "      <td>Wilton</td>\n",
       "      <td>Chamberlain</td>\n",
       "      <td>80</td>\n",
       "      <td>3586</td>\n",
       "      <td>2770</td>\n",
       "      <td>1463</td>\n",
       "      <td>0.528159</td>\n",
       "    </tr>\n",
       "    <tr>\n",
       "      <th>2324</th>\n",
       "      <td>Wilton</td>\n",
       "      <td>Chamberlain</td>\n",
       "      <td>80</td>\n",
       "      <td>2948</td>\n",
       "      <td>2298</td>\n",
       "      <td>1204</td>\n",
       "      <td>0.523934</td>\n",
       "    </tr>\n",
       "    <tr>\n",
       "      <th>5704</th>\n",
       "      <td>Robert</td>\n",
       "      <td>McAdoo</td>\n",
       "      <td>82</td>\n",
       "      <td>2831</td>\n",
       "      <td>2138</td>\n",
       "      <td>1095</td>\n",
       "      <td>0.512161</td>\n",
       "    </tr>\n",
       "    <tr>\n",
       "      <th>1972</th>\n",
       "      <td>Wilton</td>\n",
       "      <td>Chamberlain</td>\n",
       "      <td>79</td>\n",
       "      <td>3033</td>\n",
       "      <td>2457</td>\n",
       "      <td>1251</td>\n",
       "      <td>0.509158</td>\n",
       "    </tr>\n",
       "    <tr>\n",
       "      <th>2078</th>\n",
       "      <td>Wilton</td>\n",
       "      <td>Chamberlain</td>\n",
       "      <td>80</td>\n",
       "      <td>4029</td>\n",
       "      <td>3159</td>\n",
       "      <td>1597</td>\n",
       "      <td>0.505540</td>\n",
       "    </tr>\n",
       "    <tr>\n",
       "      <th>12196</th>\n",
       "      <td>Michael</td>\n",
       "      <td>Jordan</td>\n",
       "      <td>78</td>\n",
       "      <td>2541</td>\n",
       "      <td>2003</td>\n",
       "      <td>992</td>\n",
       "      <td>0.495257</td>\n",
       "    </tr>\n",
       "    <tr>\n",
       "      <th>4713</th>\n",
       "      <td>Nathaniel</td>\n",
       "      <td>Archibald</td>\n",
       "      <td>80</td>\n",
       "      <td>2719</td>\n",
       "      <td>2106</td>\n",
       "      <td>1028</td>\n",
       "      <td>0.488129</td>\n",
       "    </tr>\n",
       "    <tr>\n",
       "      <th>9769</th>\n",
       "      <td>Michael</td>\n",
       "      <td>Jordan</td>\n",
       "      <td>82</td>\n",
       "      <td>3041</td>\n",
       "      <td>2279</td>\n",
       "      <td>1098</td>\n",
       "      <td>0.481790</td>\n",
       "    </tr>\n",
       "    <tr>\n",
       "      <th>5499</th>\n",
       "      <td>Richard</td>\n",
       "      <td>Barry</td>\n",
       "      <td>80</td>\n",
       "      <td>2450</td>\n",
       "      <td>2217</td>\n",
       "      <td>1028</td>\n",
       "      <td>0.463690</td>\n",
       "    </tr>\n",
       "  </tbody>\n",
       "</table>\n",
       "</div>"
      ],
      "text/plain": [
       "       firstName      lastName  GP  points  fgAttempted  fgMade  \\\n",
       "4289      Kareem  Abdul-Jabbar  81    2822         2019    1159   \n",
       "2199      Wilton   Chamberlain  80    3586         2770    1463   \n",
       "2324      Wilton   Chamberlain  80    2948         2298    1204   \n",
       "5704      Robert        McAdoo  82    2831         2138    1095   \n",
       "1972      Wilton   Chamberlain  79    3033         2457    1251   \n",
       "2078      Wilton   Chamberlain  80    4029         3159    1597   \n",
       "12196    Michael        Jordan  78    2541         2003     992   \n",
       "4713   Nathaniel     Archibald  80    2719         2106    1028   \n",
       "9769     Michael        Jordan  82    3041         2279    1098   \n",
       "5499     Richard         Barry  80    2450         2217    1028   \n",
       "\n",
       "       fgmade_per_attempt  \n",
       "4289             0.574047  \n",
       "2199             0.528159  \n",
       "2324             0.523934  \n",
       "5704             0.512161  \n",
       "1972             0.509158  \n",
       "2078             0.505540  \n",
       "12196            0.495257  \n",
       "4713             0.488129  \n",
       "9769             0.481790  \n",
       "5499             0.463690  "
      ]
     },
     "execution_count": 17,
     "metadata": {},
     "output_type": "execute_result"
    }
   ],
   "source": [
    "nba.columns\n",
    "#,'ftAttempted','ftMade','threeAttempted','threeMade'\n",
    "nba2= nba[['firstName', 'lastName','GP','points','fgAttempted','fgMade']]\n",
    "nba3 = nba2[nba2['fgAttempted'] > 2000]\n",
    "nba3.loc[:,'fgmade_per_attempt'] = nba3[\"fgMade\"] / nba3[\"fgAttempted\"]   # allows me to add a column\n",
    "nba3.sort_values(['fgmade_per_attempt', 'fgAttempted'], ascending = False).head(10)"
   ]
  },
  {
   "cell_type": "markdown",
   "metadata": {},
   "source": [
    "#### Jerry West was the most effecient \"ft\" scorer"
   ]
  },
  {
   "cell_type": "markdown",
   "metadata": {},
   "source": [
    "## The more attempts are made, then the probality of scoring increases "
   ]
  },
  {
   "cell_type": "code",
   "execution_count": 18,
   "metadata": {},
   "outputs": [
    {
     "data": {
      "text/html": [
       "<div>\n",
       "<style scoped>\n",
       "    .dataframe tbody tr th:only-of-type {\n",
       "        vertical-align: middle;\n",
       "    }\n",
       "\n",
       "    .dataframe tbody tr th {\n",
       "        vertical-align: top;\n",
       "    }\n",
       "\n",
       "    .dataframe thead th {\n",
       "        text-align: right;\n",
       "    }\n",
       "</style>\n",
       "<table border=\"1\" class=\"dataframe\">\n",
       "  <thead>\n",
       "    <tr style=\"text-align: right;\">\n",
       "      <th></th>\n",
       "      <th>firstName</th>\n",
       "      <th>lastName</th>\n",
       "      <th>GP</th>\n",
       "      <th>points</th>\n",
       "      <th>ftAttempted</th>\n",
       "      <th>ftMade</th>\n",
       "      <th>ftmade_per_attempt</th>\n",
       "    </tr>\n",
       "  </thead>\n",
       "  <tbody>\n",
       "    <tr>\n",
       "      <th>2673</th>\n",
       "      <td>Jerry</td>\n",
       "      <td>West</td>\n",
       "      <td>79</td>\n",
       "      <td>2476</td>\n",
       "      <td>977</td>\n",
       "      <td>840</td>\n",
       "      <td>0.859775</td>\n",
       "    </tr>\n",
       "    <tr>\n",
       "      <th>8648</th>\n",
       "      <td>Adrian</td>\n",
       "      <td>Dantley</td>\n",
       "      <td>79</td>\n",
       "      <td>2418</td>\n",
       "      <td>946</td>\n",
       "      <td>813</td>\n",
       "      <td>0.859408</td>\n",
       "    </tr>\n",
       "    <tr>\n",
       "      <th>9769</th>\n",
       "      <td>Michael</td>\n",
       "      <td>Jordan</td>\n",
       "      <td>82</td>\n",
       "      <td>3041</td>\n",
       "      <td>972</td>\n",
       "      <td>833</td>\n",
       "      <td>0.856996</td>\n",
       "    </tr>\n",
       "    <tr>\n",
       "      <th>2399</th>\n",
       "      <td>Oscar</td>\n",
       "      <td>Robertson</td>\n",
       "      <td>79</td>\n",
       "      <td>2480</td>\n",
       "      <td>938</td>\n",
       "      <td>800</td>\n",
       "      <td>0.852878</td>\n",
       "    </tr>\n",
       "    <tr>\n",
       "      <th>9098</th>\n",
       "      <td>Moses</td>\n",
       "      <td>Malone</td>\n",
       "      <td>79</td>\n",
       "      <td>1941</td>\n",
       "      <td>904</td>\n",
       "      <td>737</td>\n",
       "      <td>0.815265</td>\n",
       "    </tr>\n",
       "    <tr>\n",
       "      <th>2148</th>\n",
       "      <td>Robert</td>\n",
       "      <td>Pettit</td>\n",
       "      <td>78</td>\n",
       "      <td>2429</td>\n",
       "      <td>901</td>\n",
       "      <td>695</td>\n",
       "      <td>0.771365</td>\n",
       "    </tr>\n",
       "    <tr>\n",
       "      <th>2177</th>\n",
       "      <td>Jerry</td>\n",
       "      <td>West</td>\n",
       "      <td>75</td>\n",
       "      <td>2310</td>\n",
       "      <td>926</td>\n",
       "      <td>712</td>\n",
       "      <td>0.768898</td>\n",
       "    </tr>\n",
       "    <tr>\n",
       "      <th>10566</th>\n",
       "      <td>Karl</td>\n",
       "      <td>Malone</td>\n",
       "      <td>80</td>\n",
       "      <td>2326</td>\n",
       "      <td>918</td>\n",
       "      <td>703</td>\n",
       "      <td>0.765795</td>\n",
       "    </tr>\n",
       "    <tr>\n",
       "      <th>10975</th>\n",
       "      <td>Karl</td>\n",
       "      <td>Malone</td>\n",
       "      <td>82</td>\n",
       "      <td>2540</td>\n",
       "      <td>913</td>\n",
       "      <td>696</td>\n",
       "      <td>0.762322</td>\n",
       "    </tr>\n",
       "    <tr>\n",
       "      <th>9989</th>\n",
       "      <td>Charles</td>\n",
       "      <td>Barkley</td>\n",
       "      <td>80</td>\n",
       "      <td>2264</td>\n",
       "      <td>951</td>\n",
       "      <td>714</td>\n",
       "      <td>0.750789</td>\n",
       "    </tr>\n",
       "  </tbody>\n",
       "</table>\n",
       "</div>"
      ],
      "text/plain": [
       "      firstName   lastName  GP  points  ftAttempted  ftMade  \\\n",
       "2673      Jerry       West  79    2476          977     840   \n",
       "8648     Adrian    Dantley  79    2418          946     813   \n",
       "9769    Michael     Jordan  82    3041          972     833   \n",
       "2399      Oscar  Robertson  79    2480          938     800   \n",
       "9098      Moses     Malone  79    1941          904     737   \n",
       "2148     Robert     Pettit  78    2429          901     695   \n",
       "2177      Jerry       West  75    2310          926     712   \n",
       "10566      Karl     Malone  80    2326          918     703   \n",
       "10975      Karl     Malone  82    2540          913     696   \n",
       "9989    Charles    Barkley  80    2264          951     714   \n",
       "\n",
       "       ftmade_per_attempt  \n",
       "2673             0.859775  \n",
       "8648             0.859408  \n",
       "9769             0.856996  \n",
       "2399             0.852878  \n",
       "9098             0.815265  \n",
       "2148             0.771365  \n",
       "2177             0.768898  \n",
       "10566            0.765795  \n",
       "10975            0.762322  \n",
       "9989             0.750789  "
      ]
     },
     "execution_count": 18,
     "metadata": {},
     "output_type": "execute_result"
    }
   ],
   "source": [
    "nba4= nba[['firstName', 'lastName','GP','points','ftAttempted','ftMade']]    #selects specific columns\n",
    "nba5 = nba4[nba4['ftAttempted'] > 900]  # only returns 900 attempts and above\n",
    "nba5.loc[:,'ftmade_per_attempt'] = nba5[\"ftMade\"] / nba5[\"ftAttempted\"] #adds a new column\n",
    "nba5.sort_values(['ftmade_per_attempt', 'ftAttempted'], ascending = False).head(10) # sorting by the columns inside the ()"
   ]
  },
  {
   "cell_type": "markdown",
   "metadata": {},
   "source": [
    "### Overal attempts,more attempts, more points"
   ]
  },
  {
   "cell_type": "code",
   "execution_count": 19,
   "metadata": {},
   "outputs": [],
   "source": [
    "nba\n",
    "nba['attempts'] =nba['fgAttempted'] + nba['ftAttempted'] + nba['threeAttempted']"
   ]
  },
  {
   "cell_type": "code",
   "execution_count": 20,
   "metadata": {},
   "outputs": [
    {
     "data": {
      "text/html": [
       "<div>\n",
       "<style scoped>\n",
       "    .dataframe tbody tr th:only-of-type {\n",
       "        vertical-align: middle;\n",
       "    }\n",
       "\n",
       "    .dataframe tbody tr th {\n",
       "        vertical-align: top;\n",
       "    }\n",
       "\n",
       "    .dataframe thead th {\n",
       "        text-align: right;\n",
       "    }\n",
       "</style>\n",
       "<table border=\"1\" class=\"dataframe\">\n",
       "  <thead>\n",
       "    <tr style=\"text-align: right;\">\n",
       "      <th></th>\n",
       "      <th>year</th>\n",
       "      <th>GP</th>\n",
       "      <th>points</th>\n",
       "      <th>firstName</th>\n",
       "      <th>lastName</th>\n",
       "      <th>attempts</th>\n",
       "    </tr>\n",
       "  </thead>\n",
       "  <tbody>\n",
       "    <tr>\n",
       "      <th>2078</th>\n",
       "      <td>1961</td>\n",
       "      <td>80</td>\n",
       "      <td>4029</td>\n",
       "      <td>Wilton</td>\n",
       "      <td>Chamberlain</td>\n",
       "      <td>4522</td>\n",
       "    </tr>\n",
       "    <tr>\n",
       "      <th>2199</th>\n",
       "      <td>1962</td>\n",
       "      <td>80</td>\n",
       "      <td>3586</td>\n",
       "      <td>Wilton</td>\n",
       "      <td>Chamberlain</td>\n",
       "      <td>3883</td>\n",
       "    </tr>\n",
       "    <tr>\n",
       "      <th>9769</th>\n",
       "      <td>1986</td>\n",
       "      <td>82</td>\n",
       "      <td>3041</td>\n",
       "      <td>Michael</td>\n",
       "      <td>Jordan</td>\n",
       "      <td>3317</td>\n",
       "    </tr>\n",
       "    <tr>\n",
       "      <th>1972</th>\n",
       "      <td>1960</td>\n",
       "      <td>79</td>\n",
       "      <td>3033</td>\n",
       "      <td>Wilton</td>\n",
       "      <td>Chamberlain</td>\n",
       "      <td>3511</td>\n",
       "    </tr>\n",
       "    <tr>\n",
       "      <th>2324</th>\n",
       "      <td>1963</td>\n",
       "      <td>80</td>\n",
       "      <td>2948</td>\n",
       "      <td>Wilton</td>\n",
       "      <td>Chamberlain</td>\n",
       "      <td>3314</td>\n",
       "    </tr>\n",
       "    <tr>\n",
       "      <th>10139</th>\n",
       "      <td>1987</td>\n",
       "      <td>82</td>\n",
       "      <td>2868</td>\n",
       "      <td>Michael</td>\n",
       "      <td>Jordan</td>\n",
       "      <td>2911</td>\n",
       "    </tr>\n",
       "    <tr>\n",
       "      <th>18270</th>\n",
       "      <td>2005</td>\n",
       "      <td>80</td>\n",
       "      <td>2832</td>\n",
       "      <td>Kobe</td>\n",
       "      <td>Bryant</td>\n",
       "      <td>3510</td>\n",
       "    </tr>\n",
       "    <tr>\n",
       "      <th>5704</th>\n",
       "      <td>1974</td>\n",
       "      <td>82</td>\n",
       "      <td>2831</td>\n",
       "      <td>Robert</td>\n",
       "      <td>McAdoo</td>\n",
       "      <td>2934</td>\n",
       "    </tr>\n",
       "    <tr>\n",
       "      <th>4289</th>\n",
       "      <td>1971</td>\n",
       "      <td>81</td>\n",
       "      <td>2822</td>\n",
       "      <td>Kareem</td>\n",
       "      <td>Abdul-Jabbar</td>\n",
       "      <td>2751</td>\n",
       "    </tr>\n",
       "    <tr>\n",
       "      <th>2685</th>\n",
       "      <td>1966</td>\n",
       "      <td>78</td>\n",
       "      <td>2775</td>\n",
       "      <td>Richard</td>\n",
       "      <td>Barry</td>\n",
       "      <td>3092</td>\n",
       "    </tr>\n",
       "  </tbody>\n",
       "</table>\n",
       "</div>"
      ],
      "text/plain": [
       "       year  GP  points firstName      lastName  attempts\n",
       "2078   1961  80    4029    Wilton   Chamberlain      4522\n",
       "2199   1962  80    3586    Wilton   Chamberlain      3883\n",
       "9769   1986  82    3041   Michael        Jordan      3317\n",
       "1972   1960  79    3033    Wilton   Chamberlain      3511\n",
       "2324   1963  80    2948    Wilton   Chamberlain      3314\n",
       "10139  1987  82    2868   Michael        Jordan      2911\n",
       "18270  2005  80    2832      Kobe        Bryant      3510\n",
       "5704   1974  82    2831    Robert        McAdoo      2934\n",
       "4289   1971  81    2822    Kareem  Abdul-Jabbar      2751\n",
       "2685   1966  78    2775   Richard         Barry      3092"
      ]
     },
     "execution_count": 20,
     "metadata": {},
     "output_type": "execute_result"
    }
   ],
   "source": [
    "gee = nba[['year','GP','points','firstName', 'lastName', 'attempts']]\n",
    "highest_points = gee.groupby(['year'])['points'].transform(max) == gee['points']\n",
    "maximum = gee[highest_points].sort_values('points', ascending = False)\n",
    "maximum.head(10)"
   ]
  },
  {
   "cell_type": "markdown",
   "metadata": {},
   "source": [
    "## It seems like some players may excel in one statistical category, but produce very little in other areas. Are there any players that are exceptional across many categories?"
   ]
  },
  {
   "cell_type": "markdown",
   "metadata": {},
   "source": [
    "### Wilton had the most rebounds and most points for at least 5 years, and 2 years back to back. That's impressive, GOAT!"
   ]
  },
  {
   "cell_type": "code",
   "execution_count": 21,
   "metadata": {},
   "outputs": [
    {
     "data": {
      "text/html": [
       "<div>\n",
       "<style scoped>\n",
       "    .dataframe tbody tr th:only-of-type {\n",
       "        vertical-align: middle;\n",
       "    }\n",
       "\n",
       "    .dataframe tbody tr th {\n",
       "        vertical-align: top;\n",
       "    }\n",
       "\n",
       "    .dataframe thead th {\n",
       "        text-align: right;\n",
       "    }\n",
       "</style>\n",
       "<table border=\"1\" class=\"dataframe\">\n",
       "  <thead>\n",
       "    <tr style=\"text-align: right;\">\n",
       "      <th></th>\n",
       "      <th>year</th>\n",
       "      <th>assists</th>\n",
       "      <th>rebounds</th>\n",
       "      <th>height</th>\n",
       "      <th>points</th>\n",
       "      <th>steals</th>\n",
       "      <th>firstName</th>\n",
       "      <th>lastName</th>\n",
       "      <th>GP</th>\n",
       "      <th>points</th>\n",
       "    </tr>\n",
       "  </thead>\n",
       "  <tbody>\n",
       "    <tr>\n",
       "      <th>1972</th>\n",
       "      <td>1960</td>\n",
       "      <td>148</td>\n",
       "      <td>2149</td>\n",
       "      <td>85.0</td>\n",
       "      <td>3033</td>\n",
       "      <td>0</td>\n",
       "      <td>Wilton</td>\n",
       "      <td>Chamberlain</td>\n",
       "      <td>79</td>\n",
       "      <td>3033</td>\n",
       "    </tr>\n",
       "    <tr>\n",
       "      <th>2078</th>\n",
       "      <td>1961</td>\n",
       "      <td>192</td>\n",
       "      <td>2052</td>\n",
       "      <td>85.0</td>\n",
       "      <td>4029</td>\n",
       "      <td>0</td>\n",
       "      <td>Wilton</td>\n",
       "      <td>Chamberlain</td>\n",
       "      <td>80</td>\n",
       "      <td>4029</td>\n",
       "    </tr>\n",
       "    <tr>\n",
       "      <th>2697</th>\n",
       "      <td>1966</td>\n",
       "      <td>630</td>\n",
       "      <td>1957</td>\n",
       "      <td>85.0</td>\n",
       "      <td>1956</td>\n",
       "      <td>0</td>\n",
       "      <td>Wilton</td>\n",
       "      <td>Chamberlain</td>\n",
       "      <td>81</td>\n",
       "      <td>1956</td>\n",
       "    </tr>\n",
       "    <tr>\n",
       "      <th>2856</th>\n",
       "      <td>1967</td>\n",
       "      <td>702</td>\n",
       "      <td>1952</td>\n",
       "      <td>85.0</td>\n",
       "      <td>1992</td>\n",
       "      <td>0</td>\n",
       "      <td>Wilton</td>\n",
       "      <td>Chamberlain</td>\n",
       "      <td>82</td>\n",
       "      <td>1992</td>\n",
       "    </tr>\n",
       "    <tr>\n",
       "      <th>2199</th>\n",
       "      <td>1962</td>\n",
       "      <td>275</td>\n",
       "      <td>1946</td>\n",
       "      <td>85.0</td>\n",
       "      <td>3586</td>\n",
       "      <td>0</td>\n",
       "      <td>Wilton</td>\n",
       "      <td>Chamberlain</td>\n",
       "      <td>80</td>\n",
       "      <td>3586</td>\n",
       "    </tr>\n",
       "    <tr>\n",
       "      <th>2578</th>\n",
       "      <td>1965</td>\n",
       "      <td>414</td>\n",
       "      <td>1943</td>\n",
       "      <td>85.0</td>\n",
       "      <td>2649</td>\n",
       "      <td>0</td>\n",
       "      <td>Wilton</td>\n",
       "      <td>Chamberlain</td>\n",
       "      <td>79</td>\n",
       "      <td>2649</td>\n",
       "    </tr>\n",
       "    <tr>\n",
       "      <th>1859</th>\n",
       "      <td>1959</td>\n",
       "      <td>168</td>\n",
       "      <td>1941</td>\n",
       "      <td>85.0</td>\n",
       "      <td>2707</td>\n",
       "      <td>0</td>\n",
       "      <td>Wilton</td>\n",
       "      <td>Chamberlain</td>\n",
       "      <td>72</td>\n",
       "      <td>2707</td>\n",
       "    </tr>\n",
       "    <tr>\n",
       "      <th>2403</th>\n",
       "      <td>1963</td>\n",
       "      <td>370</td>\n",
       "      <td>1930</td>\n",
       "      <td>81.0</td>\n",
       "      <td>1168</td>\n",
       "      <td>0</td>\n",
       "      <td>William</td>\n",
       "      <td>Russell</td>\n",
       "      <td>78</td>\n",
       "      <td>1168</td>\n",
       "    </tr>\n",
       "    <tr>\n",
       "      <th>2534</th>\n",
       "      <td>1964</td>\n",
       "      <td>410</td>\n",
       "      <td>1878</td>\n",
       "      <td>81.0</td>\n",
       "      <td>1102</td>\n",
       "      <td>0</td>\n",
       "      <td>William</td>\n",
       "      <td>Russell</td>\n",
       "      <td>78</td>\n",
       "      <td>1102</td>\n",
       "    </tr>\n",
       "    <tr>\n",
       "      <th>2043</th>\n",
       "      <td>1960</td>\n",
       "      <td>268</td>\n",
       "      <td>1868</td>\n",
       "      <td>81.0</td>\n",
       "      <td>1322</td>\n",
       "      <td>0</td>\n",
       "      <td>William</td>\n",
       "      <td>Russell</td>\n",
       "      <td>78</td>\n",
       "      <td>1322</td>\n",
       "    </tr>\n",
       "  </tbody>\n",
       "</table>\n",
       "</div>"
      ],
      "text/plain": [
       "      year  assists  rebounds  height  points  steals firstName     lastName  \\\n",
       "1972  1960      148      2149    85.0    3033       0    Wilton  Chamberlain   \n",
       "2078  1961      192      2052    85.0    4029       0    Wilton  Chamberlain   \n",
       "2697  1966      630      1957    85.0    1956       0    Wilton  Chamberlain   \n",
       "2856  1967      702      1952    85.0    1992       0    Wilton  Chamberlain   \n",
       "2199  1962      275      1946    85.0    3586       0    Wilton  Chamberlain   \n",
       "2578  1965      414      1943    85.0    2649       0    Wilton  Chamberlain   \n",
       "1859  1959      168      1941    85.0    2707       0    Wilton  Chamberlain   \n",
       "2403  1963      370      1930    81.0    1168       0   William      Russell   \n",
       "2534  1964      410      1878    81.0    1102       0   William      Russell   \n",
       "2043  1960      268      1868    81.0    1322       0   William      Russell   \n",
       "\n",
       "      GP  points  \n",
       "1972  79    3033  \n",
       "2078  80    4029  \n",
       "2697  81    1956  \n",
       "2856  82    1992  \n",
       "2199  80    3586  \n",
       "2578  79    2649  \n",
       "1859  72    2707  \n",
       "2403  78    1168  \n",
       "2534  78    1102  \n",
       "2043  78    1322  "
      ]
     },
     "execution_count": 21,
     "metadata": {},
     "output_type": "execute_result"
    }
   ],
   "source": [
    "across = nba[['year','assists', 'rebounds','height','points','steals','firstName', 'lastName','GP','points']]\n",
    "across.sort_values(['rebounds'], ascending = False).head(10)"
   ]
  },
  {
   "cell_type": "markdown",
   "metadata": {},
   "source": [
    "### Average height? Wilton was way above the average height which gave him the advantage. The results below shows it. "
   ]
  },
  {
   "cell_type": "code",
   "execution_count": 22,
   "metadata": {},
   "outputs": [
    {
     "data": {
      "text/plain": [
       "78.35446415336726"
      ]
     },
     "execution_count": 22,
     "metadata": {},
     "output_type": "execute_result"
    }
   ],
   "source": [
    "average = across['height'].mean()\n",
    "average"
   ]
  },
  {
   "cell_type": "markdown",
   "metadata": {},
   "source": [
    "## Much has been said about the rise of the three-point shot in recent years. It seems that players are shooting and making more three-point shots than ever. Recognizing that this dataset doesn't contain the very most recent data, do you see a trend of more three-point shots either across the league or among certain groups of players? Is there a point at which popularity increased dramatically?"
   ]
  },
  {
   "cell_type": "code",
   "execution_count": 23,
   "metadata": {},
   "outputs": [
    {
     "data": {
      "image/png": "[encoded data removed]",
      "text/plain": [
       "<Figure size 432x288 with 1 Axes>"
      ]
     },
     "metadata": {},
     "output_type": "display_data"
    }
   ],
   "source": [
    "plt.scatter(nba75['year'], nba75['threeMade'], color = 'c', label = 'threeMade') \n",
    "plt.scatter(nba75['year'], nba75['threeAttempted'], color = 'coral', alpha =0.2, label = 'threeAttempted')\n",
    "#alpha make the color to fade\n",
    "plt.legend()\n",
    "plt.show() "
   ]
  },
  {
   "cell_type": "markdown",
   "metadata": {},
   "source": [
    "### I am predicting 1995 because it looks to be in middle of 1990 and 2000"
   ]
  },
  {
   "cell_type": "code",
   "execution_count": 24,
   "metadata": {},
   "outputs": [
    {
     "data": {
      "text/html": [
       "<div>\n",
       "<style scoped>\n",
       "    .dataframe tbody tr th:only-of-type {\n",
       "        vertical-align: middle;\n",
       "    }\n",
       "\n",
       "    .dataframe tbody tr th {\n",
       "        vertical-align: top;\n",
       "    }\n",
       "\n",
       "    .dataframe thead th {\n",
       "        text-align: right;\n",
       "    }\n",
       "</style>\n",
       "<table border=\"1\" class=\"dataframe\">\n",
       "  <thead>\n",
       "    <tr style=\"text-align: right;\">\n",
       "      <th></th>\n",
       "      <th>year</th>\n",
       "      <th>threeAttempted</th>\n",
       "      <th>threeMade</th>\n",
       "      <th>GP</th>\n",
       "      <th>firstName</th>\n",
       "      <th>lastName</th>\n",
       "    </tr>\n",
       "  </thead>\n",
       "  <tbody>\n",
       "    <tr>\n",
       "      <th>13573</th>\n",
       "      <td>1995</td>\n",
       "      <td>678</td>\n",
       "      <td>257</td>\n",
       "      <td>79</td>\n",
       "      <td>George</td>\n",
       "      <td>McCloud</td>\n",
       "    </tr>\n",
       "    <tr>\n",
       "      <th>18202</th>\n",
       "      <td>2005</td>\n",
       "      <td>653</td>\n",
       "      <td>269</td>\n",
       "      <td>78</td>\n",
       "      <td>Walter</td>\n",
       "      <td>Allen</td>\n",
       "    </tr>\n",
       "    <tr>\n",
       "      <th>16671</th>\n",
       "      <td>2001</td>\n",
       "      <td>645</td>\n",
       "      <td>222</td>\n",
       "      <td>81</td>\n",
       "      <td>Antoine</td>\n",
       "      <td>Walker</td>\n",
       "    </tr>\n",
       "    <tr>\n",
       "      <th>18070</th>\n",
       "      <td>2004</td>\n",
       "      <td>631</td>\n",
       "      <td>226</td>\n",
       "      <td>79</td>\n",
       "      <td>Quentin</td>\n",
       "      <td>Richardson</td>\n",
       "    </tr>\n",
       "    <tr>\n",
       "      <th>13692</th>\n",
       "      <td>1995</td>\n",
       "      <td>628</td>\n",
       "      <td>267</td>\n",
       "      <td>82</td>\n",
       "      <td>Dennis</td>\n",
       "      <td>Scott</td>\n",
       "    </tr>\n",
       "    <tr>\n",
       "      <th>13338</th>\n",
       "      <td>1995</td>\n",
       "      <td>623</td>\n",
       "      <td>231</td>\n",
       "      <td>81</td>\n",
       "      <td>Daron</td>\n",
       "      <td>Blaylock</td>\n",
       "    </tr>\n",
       "    <tr>\n",
       "      <th>13239</th>\n",
       "      <td>1994</td>\n",
       "      <td>611</td>\n",
       "      <td>217</td>\n",
       "      <td>80</td>\n",
       "      <td>John</td>\n",
       "      <td>Starks</td>\n",
       "    </tr>\n",
       "    <tr>\n",
       "      <th>13826</th>\n",
       "      <td>1996</td>\n",
       "      <td>604</td>\n",
       "      <td>221</td>\n",
       "      <td>78</td>\n",
       "      <td>Daron</td>\n",
       "      <td>Blaylock</td>\n",
       "    </tr>\n",
       "    <tr>\n",
       "      <th>16199</th>\n",
       "      <td>2000</td>\n",
       "      <td>603</td>\n",
       "      <td>221</td>\n",
       "      <td>81</td>\n",
       "      <td>Antoine</td>\n",
       "      <td>Walker</td>\n",
       "    </tr>\n",
       "    <tr>\n",
       "      <th>19600</th>\n",
       "      <td>2007</td>\n",
       "      <td>599</td>\n",
       "      <td>243</td>\n",
       "      <td>82</td>\n",
       "      <td>Jason</td>\n",
       "      <td>Richardson</td>\n",
       "    </tr>\n",
       "  </tbody>\n",
       "</table>\n",
       "</div>"
      ],
      "text/plain": [
       "       year  threeAttempted  threeMade  GP firstName    lastName\n",
       "13573  1995             678        257  79    George     McCloud\n",
       "18202  2005             653        269  78    Walter       Allen\n",
       "16671  2001             645        222  81   Antoine      Walker\n",
       "18070  2004             631        226  79   Quentin  Richardson\n",
       "13692  1995             628        267  82    Dennis       Scott\n",
       "13338  1995             623        231  81     Daron    Blaylock\n",
       "13239  1994             611        217  80      John      Starks\n",
       "13826  1996             604        221  78     Daron    Blaylock\n",
       "16199  2000             603        221  81   Antoine      Walker\n",
       "19600  2007             599        243  82     Jason  Richardson"
      ]
     },
     "execution_count": 24,
     "metadata": {},
     "output_type": "execute_result"
    }
   ],
   "source": [
    "threes = nba[['year','threeAttempted','threeMade','GP','firstName', 'lastName']]                         \n",
    "threes.sort_values('threeAttempted', ascending  = False). head(10)"
   ]
  },
  {
   "cell_type": "markdown",
   "metadata": {},
   "source": [
    "### 'WAS RIGHT', 1994 and 1995 was when the players started to attempt more 3-point shots. One thing to note is that you needed to have played at missed 4 games in the entire season to have so many attempts. There are 3 players from the 1995 season that are in the top 6 of the attempted 3's"
   ]
  },
  {
   "cell_type": "code",
   "execution_count": null,
   "metadata": {},
   "outputs": [],
   "source": []
  }
 ],
 "metadata": {
  "kernelspec": {
   "display_name": "Python 3",
   "language": "python",
   "name": "python3"
  },
  "language_info": {
   "codemirror_mode": {
    "name": "ipython",
    "version": 3
   },
   "file_extension": ".py",
   "mimetype": "text/x-python",
   "name": "python",
   "nbconvert_exporter": "python",
   "pygments_lexer": "ipython3",
   "version": "3.7.3"
  }
 },
 "nbformat": 4,
 "nbformat_minor": 2
}
